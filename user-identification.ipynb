{
 "cells": [
  {
   "cell_type": "markdown",
   "metadata": {},
   "source": [
    "# <center> Идентификация пользователей по посещенным веб-страницам\n",
    "    \n",
    "### Сергей Кузьмин 14.03.2021\n",
    "    \n",
    "   В этом проекте решается задача идентификации пользователя по его поведению в сети Интернет. Это сложная и интересная задача на стыке анализа данных и поведенческой психологии. В качестве примера, компания Яндекс решает задачу идентификации взломщика почтового ящика по его поведению. В двух словах, взломщик будет себя вести не так, как владелец ящика: он может не удалять сообщения сразу по прочтении, как это делал хозяин, он будет по-другому ставить флажки сообщениям и даже по-своему двигать мышкой. Тогда такого злоумышленника можно идентифицировать и \"выкинуть\" из почтового ящика, предложив хозяину войти по SMS-коду.\n",
    "    \n",
    "   Решается следующая задача: по последовательности из нескольких веб-сайтов, посещенных подряд один и тем же человеком, будем идентифицировать этого человека. Идея такая: пользователи Интернета по-разному переходят по ссылкам, и это может помогать их идентифицировать (кто-то сначала в почту, потом про футбол почитать, затем новости, контакт, потом наконец – работать, кто-то – сразу работать).\n",
    "\n",
    "# <center>1. Подготовка данных к анализу и построению моделей\n",
    "   Первая часть проекта посвящена подготовке данных для дальнейшего описательного анализа и построения прогнозных моделей."
   ]
  },
  {
   "cell_type": "code",
   "execution_count": 15,
   "metadata": {},
   "outputs": [],
   "source": [
    "from __future__ import division, print_function\n",
    "# отключим всякие предупреждения Anaconda\n",
    "import warnings\n",
    "warnings.filterwarnings('ignore')\n",
    "from glob import glob\n",
    "import os\n",
    "import pickle\n",
    "import numpy as np\n",
    "import pandas as pd\n",
    "from scipy.sparse import csr_matrix\n",
    "import math"
   ]
  },
  {
   "cell_type": "code",
   "execution_count": 2,
   "metadata": {},
   "outputs": [],
   "source": [
    "# путь к данным\n",
    "PATH_TO_DATA = '' "
   ]
  },
  {
   "cell_type": "code",
   "execution_count": 6,
   "metadata": {},
   "outputs": [
    {
     "data": {
      "text/html": [
       "<div>\n",
       "<style scoped>\n",
       "    .dataframe tbody tr th:only-of-type {\n",
       "        vertical-align: middle;\n",
       "    }\n",
       "\n",
       "    .dataframe tbody tr th {\n",
       "        vertical-align: top;\n",
       "    }\n",
       "\n",
       "    .dataframe thead th {\n",
       "        text-align: right;\n",
       "    }\n",
       "</style>\n",
       "<table border=\"1\" class=\"dataframe\">\n",
       "  <thead>\n",
       "    <tr style=\"text-align: right;\">\n",
       "      <th></th>\n",
       "      <th>timestamp</th>\n",
       "      <th>site</th>\n",
       "    </tr>\n",
       "  </thead>\n",
       "  <tbody>\n",
       "    <tr>\n",
       "      <th>0</th>\n",
       "      <td>2013-11-15 08:12:07</td>\n",
       "      <td>fpdownload2.macromedia.com</td>\n",
       "    </tr>\n",
       "    <tr>\n",
       "      <th>1</th>\n",
       "      <td>2013-11-15 08:12:17</td>\n",
       "      <td>laposte.net</td>\n",
       "    </tr>\n",
       "    <tr>\n",
       "      <th>2</th>\n",
       "      <td>2013-11-15 08:12:17</td>\n",
       "      <td>www.laposte.net</td>\n",
       "    </tr>\n",
       "  </tbody>\n",
       "</table>\n",
       "</div>"
      ],
      "text/plain": [
       "             timestamp                        site\n",
       "0  2013-11-15 08:12:07  fpdownload2.macromedia.com\n",
       "1  2013-11-15 08:12:17                 laposte.net\n",
       "2  2013-11-15 08:12:17             www.laposte.net"
      ]
     },
     "execution_count": 6,
     "metadata": {},
     "output_type": "execute_result"
    }
   ],
   "source": [
    "# исходные данные\n",
    "user31_data = pd.read_csv(os.path.join(PATH_TO_DATA, '10users/user0031.csv'))\n",
    "user31_data.head(3)"
   ]
  },
  {
   "cell_type": "markdown",
   "metadata": {},
   "source": [
    "**Поставим задачу классификации: идентифицировать пользователя по сессии из 10 подряд посещенных сайтов. Объектом в этой задаче будет сессия из 10 сайтов, последовательно посещенных одним и тем же пользователем, признаками – индексы этих 10 сайтов (чуть позже здесь появится \"мешок\" сайтов, подход Bag of Words). Целевым классом будет id пользователя.**"
   ]
  },
  {
   "cell_type": "markdown",
   "metadata": {},
   "source": [
    "## Подготовка обучающей выборки\n",
    "\n",
    "Функция *prepare_train_set* принимает на вход путь к каталогу с csv-файлами *path_to_csv_files* и параметр *session_length* – длину сессии, а возвращает 2 объекта:\n",
    "- DataFrame, в котором строки соответствуют уникальным сессиям из *session_length* сайтов, *session_length* столбцов – индексам этих *session_length* сайтов и последний столбец – ID пользователя\n",
    "- частотный словарь сайтов вида {'site_string': [site_id, site_freq]}"
   ]
  },
  {
   "cell_type": "code",
   "execution_count": 51,
   "metadata": {},
   "outputs": [],
   "source": [
    "def prepare_train_set(path_to_csv_files, session_length=10):\n",
    "    \n",
    "    glob1 = glob(os.path.join(path_to_csv_files, '*.csv'))\n",
    "# создание частотного словаря сайтов    \n",
    "    def in_dictionary(key, dict):\n",
    "        return key in dict\n",
    "\n",
    "    freq_dict = {}\n",
    "    k = 1\n",
    "    s = 1\n",
    "\n",
    "    for file in glob1:\n",
    "        df = pd.read_csv(file)\n",
    "        \n",
    "        for i in range(len(df.site)):\n",
    "            if in_dictionary(df.site[i],freq_dict) == True:\n",
    "                k = freq_dict[df.site[i]][1] + 1\n",
    "                s = freq_dict[df.site[i]][0]\n",
    "        \n",
    "            freq_dict[df.site[i]] = [s, k]\n",
    "            k = 1\n",
    "            s = len(freq_dict) + 1\n",
    "# создание dataframe\n",
    "    word = 'site'\n",
    "    number = list(range(1,session_length+1))\n",
    "    columns = []\n",
    "    for i in number:\n",
    "        columns.append(\"{}{}\".format(word, i))\n",
    "    columns.append('user_id')\n",
    "    sum1 = 0\n",
    "    for file in glob1:\n",
    "        df = pd.read_csv(file)\n",
    "        sum1 = len(df) + sum1\n",
    "        sum2 = math.ceil(sum1/session_length + len(glob1))\n",
    "    \n",
    "    data = pd.DataFrame(index=range(sum2), columns=columns)\n",
    "# заполнение dataframe\n",
    "    s = 0\n",
    "    j = 0\n",
    "    list2 = []\n",
    "    user = 1\n",
    "    for file in glob1:\n",
    "        df = pd.read_csv(file)\n",
    "        for i in range(len(df.site)):\n",
    "            list2.append(freq_dict[df.site[i]][0])\n",
    "            s += 1\n",
    "            if s == 10:\n",
    "                list2.append(user)\n",
    "                data.iloc[j] = list2\n",
    "                j += 1\n",
    "                list2 = []\n",
    "                s = 0\n",
    "            if (i == len(df.site)-1) and (len(df.site)%10 != 0):\n",
    "                for g in range(10-s):\n",
    "                    list2.append(0)\n",
    "                list2.append(user)    \n",
    "                data.iloc[j] = list2\n",
    "                j += 1\n",
    "                list2 = []\n",
    "                s = 0\n",
    "        user += 1\n",
    "    data.dropna(inplace=True)\n",
    "    return data, freq_dict"
   ]
  },
  {
   "cell_type": "code",
   "execution_count": 55,
   "metadata": {},
   "outputs": [],
   "source": [
    "# применение фукции prepare_train_set на данных по 10 пользователям\n",
    "path_to_csv_files_10 = '/10users/'\n",
    "train_data_10users, site_freq_10users = prepare_train_set(path_to_csv_files_10, session_length=10)"
   ]
  },
  {
   "cell_type": "code",
   "execution_count": 56,
   "metadata": {},
   "outputs": [],
   "source": [
    "# применение фукции prepare_train_set на данных по 150 пользователям\n",
    "path_to_csv_files_150 = '/150users/'\n",
    "train_data_150users, site_freq_150users = prepare_train_set(path_to_csv_files_150, session_length=10)"
   ]
  },
  {
   "cell_type": "code",
   "execution_count": 57,
   "metadata": {},
   "outputs": [
    {
     "name": "stdout",
     "output_type": "stream",
     "text": [
      "['www.google.fr', 'www.google.com', 'www.facebook.com', 'apis.google.com', 's.youtube.com', 'clients1.google.com', 'mail.google.com', 'plus.google.com', 'safebrowsing-cache.google.com', 'www.youtube.com']\n"
     ]
    }
   ],
   "source": [
    "# топ 10 самых поопулярных сайтов среди посещенных 150 пользователями\n",
    "list_d = sorted(site_freq_150users.items(), key=lambda item:item[1][1], reverse=True)\n",
    "top10_popular = []\n",
    "for i in range(10):\n",
    "     top10_popular.append(list_d[i][0])\n",
    "print(top10_popular)"
   ]
  },
  {
   "cell_type": "markdown",
   "metadata": {},
   "source": [
    "## Работа с разреженным форматом данных\n",
    "*Если так подумать, то полученные признаки *site1*, ..., *site10* смысла не имеют как признаки в задаче классификации. А вот если воспользоваться идеей мешка слов из анализа текстов – это другое дело. Создадим новые матрицы, в которых строкам будут соответствовать сессии из 10 сайтов, а столбцам – индексы сайтов. На пересечении строки $i$ и столбца $j$ будет стоять число $n_{ij}$ – cколько раз сайт $j$ встретился в сессии номер $i$. Делать это будем с помощью разреженных матриц Scipy – csr_matrix.**"
   ]
  },
  {
   "cell_type": "code",
   "execution_count": 18,
   "metadata": {},
   "outputs": [],
   "source": [
    "# из документации Scipy – csr_matrix\n",
    "def sparse(docs):\n",
    "    indptr = [0]\n",
    "    indices = []\n",
    "    data = []\n",
    "    vocabulary = {}\n",
    "    for d in docs:\n",
    "        for term in d:\n",
    "            if term == 0:\n",
    "                break\n",
    "            index = vocabulary.setdefault(term, len(vocabulary))\n",
    "            indices.append(index)\n",
    "            data.append(1)\n",
    "        indptr.append(len(indices))\n",
    "\n",
    "    X_sparse = csr_matrix((data, indices, indptr), dtype=int)\n",
    "    return X_sparse"
   ]
  },
  {
   "cell_type": "markdown",
   "metadata": {},
   "source": [
    "##  Подготовка нескольких обучающих выборок для сравнения\n",
    "\n",
    "Пока мы брали последовательности из 10 сайтов, и это было наобум. Давайте сделаем число сайтов в сессии параметром, чтоб в дальнейшем сравнить модели классификации, обученные на разных выборках – с 5, 7, 10 и 15 сайтами в сессии. Более того, пока мы брали по 10 сайтов подряд, без пересечения. Теперь давайте применим идею скользящего окна – сессии будут перекрываться. \n",
    "\n",
    "**Пример**: для длины сессии 10 и ширины окна 7 файл из 30 записей породит не 3 сессии, как раньше (1-10, 11-20, 21-30), а 5 (1-10, 8-17, 15-24, 22-30, 29-30). При этом в предпоследней сессии будет один ноль, а в последней – 8 нолей.\n",
    "\n",
    "Создадим несколько выборок для разных сочетаний параметров длины сессии и ширины окна. Все они представлены в табличке ниже:\n",
    "\n",
    "<style type=\"text/css\">\n",
    ".tg  {border-collapse:collapse;border-spacing:0;}\n",
    ".tg td{font-family:Arial, sans-serif;font-size:14px;padding:10px 5px;border-style:solid;border-width:1px;overflow:hidden;word-break:normal;}\n",
    ".tg th{font-family:Arial, sans-serif;font-size:14px;font-weight:normal;padding:10px 5px;border-style:solid;border-width:1px;overflow:hidden;word-break:normal;}\n",
    "</style>\n",
    "<table class=\"tg\">\n",
    "  <tr>\n",
    "    <th class=\"tg-031e\">session_length -&gt;<br>window_size <br></th>\n",
    "    <th class=\"tg-031e\">5</th>\n",
    "    <th class=\"tg-031e\">7</th>\n",
    "    <th class=\"tg-031e\">10</th>\n",
    "    <th class=\"tg-031e\">15</th>\n",
    "  </tr>\n",
    "  <tr>\n",
    "    <td class=\"tg-031e\">5</td>\n",
    "    <td class=\"tg-031e\">v</td>\n",
    "    <td class=\"tg-031e\">v</td>\n",
    "    <td class=\"tg-031e\">v</td>\n",
    "    <td class=\"tg-031e\">v</td>\n",
    "  </tr>\n",
    "  <tr>\n",
    "    <td class=\"tg-031e\">7</td>\n",
    "    <td class=\"tg-031e\"></td>\n",
    "    <td class=\"tg-031e\">v</td>\n",
    "    <td class=\"tg-031e\">v</td>\n",
    "    <td class=\"tg-031e\">v</td>\n",
    "  </tr>\n",
    "  <tr>\n",
    "    <td class=\"tg-031e\">10</td>\n",
    "    <td class=\"tg-031e\"></td>\n",
    "    <td class=\"tg-031e\"></td>\n",
    "    <td class=\"tg-031e\"><font color='green'>v</font></td>\n",
    "    <td class=\"tg-031e\">v</td>\n",
    "  </tr>\n",
    "</table>\n",
    "\n",
    "Итого должно получиться 18 разреженных матриц – указанные в таблице 9 сочетаний параметров формирования сессий для выборок из 10 и 150 пользователей. При этом 2 выборки мы уже сделали в прошлой части, они соответствуют сочетанию параметров: session_length=10, window_size=10, которые помечены в таблице выше галочкой зеленого цвета (done)."
   ]
  },
  {
   "cell_type": "markdown",
   "metadata": {},
   "source": [
    "Функция *prepare_sparse_train_set_window*.\n",
    "\n",
    "Аргументы:\n",
    "- *path_to_csv_files* – путь к каталогу с csv-файлами\n",
    "- *site_freq_path* – путь к pickle-файлу с частотным словарем, полученным в 1 части проекта\n",
    "- *session_length* – длина сессии (параметр)\n",
    "- *window_size* – ширина окна (параметр) \n",
    "\n",
    "Функция возвращает 2 объекта:\n",
    "- разреженную матрицу *X_sparse* (двухмерная Scipy.sparse.csr_matrix), в которой строки соответствуют сессиям из *session_length* сайтов, а *max(site_id)* столбцов – количеству посещений *site_id* в сессии. \n",
    "- вектор *y* (Numpy array) \"ответов\" в виде ID пользователей, которым принадлежат сессии из *X_sparse*"
   ]
  },
  {
   "cell_type": "code",
   "execution_count": 58,
   "metadata": {},
   "outputs": [],
   "source": [
    "def prepare_sparse_train_set_window(path_to_csv_files, site_freq_path, \n",
    "                                    session_length=10, window_size=10):\n",
    "# считывание данных и создание dataframe\n",
    "    with open(site_freq_path, 'rb') as f:\n",
    "        site_freq = pickle.load(f)\n",
    "    \n",
    "    glob1 = glob(os.path.join(path_to_csv_files, '*.csv'))\n",
    "    \n",
    "    word = 'site'\n",
    "    number = list(range(1,session_length+1))\n",
    "    columns = []\n",
    "    for i in number:\n",
    "        columns.append(\"{}{}\".format(word, i))\n",
    "    columns.append('user_id')\n",
    "    sum1 = 0\n",
    "    for file in glob1:\n",
    "        df = pd.read_csv(file)\n",
    "        sum1 = len(df) + sum1\n",
    "        sum2 = math.ceil(sum1/window_size + len(glob1))\n",
    "    data = pd.DataFrame(index=range(sum2), columns=columns)\n",
    "# заполнение dataframe\n",
    "    s = 0\n",
    "    s1 = 0\n",
    "    j = 0\n",
    "    list2 = []\n",
    "    user = 1\n",
    "    for file in glob1:\n",
    "        df = pd.read_csv(file)\n",
    "        i = 0    \n",
    "        while i < len(df.site):    \n",
    "            list2.append(site_freq[df.site[i]][0])\n",
    "            s += 1\n",
    "            if (s == session_length) and (i != len(df.site)-1):\n",
    "                list2.append(user)\n",
    "                data.iloc[j] = list2\n",
    "                j += 1\n",
    "                list2 = []\n",
    "                s = 0\n",
    "                i = i - (session_length - window_size)\n",
    "            if (i == len(df.site)-1):\n",
    "                for g in range(session_length - s):\n",
    "                    list2.append(0)\n",
    "                    s1 += 1\n",
    "                list2.append(user)\n",
    "                data.iloc[j] = list2\n",
    "                j += 1\n",
    "                list2 = []\n",
    "                if s > window_size:\n",
    "                    i = i + s1 - (session_length - window_size)\n",
    "                    s = 0\n",
    "                    s1 = 0\n",
    "            i += 1\n",
    "        s = 0\n",
    "        s1 = 0\n",
    "        user += 1\n",
    "    data.dropna(inplace=True)\n",
    "# получение разреженных матриц\n",
    "    X, y = data.iloc[:, :-1].values, data.iloc[:, -1].values\n",
    "    X_sparse = sparse(X)\n",
    "    return X_sparse, y"
   ]
  },
  {
   "cell_type": "code",
   "execution_count": 60,
   "metadata": {},
   "outputs": [],
   "source": [
    "# применяем созданную функцию 16 раз с помощью циклов по числу пользователей num_users (10 или 150),\n",
    "# значениям параметра *session_length* (15, 10, 7 или 5) и значениям параметра \n",
    "# *window_size* (10, 7 или 5)\n",
    "import itertools\n",
    "\n",
    "data_lengths = []\n",
    "\n",
    "num_users = 10\n",
    "\n",
    "for window_size, session_length in itertools.product([10, 7, 5], [15, 10, 7, 5]):\n",
    "    if window_size <= session_length and (window_size, session_length) != (10, 10): \n",
    "        X_sparse_10, y_10 = prepare_sparse_train_set_window(os.path.join(PATH_TO_DATA,'10users'), \n",
    "                                                       os.path.join(PATH_TO_DATA,'site_freq_10users.pkl'),\n",
    "                                       session_length, window_size)\n",
    "        data_lengths.append(len(y_10))         \n",
    "        with open(os.path.join(PATH_TO_DATA, \n",
    "                       'X_sparse_{}users_s{}_w{}.pkl'.format(num_users,session_length,window_size)), 'wb') as X10_pkl:\n",
    "            pickle.dump(X_sparse_10, X10_pkl, protocol=2)\n",
    "                    \n",
    "        with open(os.path.join(PATH_TO_DATA, \n",
    "                       'y_{}users_s{}_w{}.pkl'.format(num_users,session_length,window_size)), 'wb') as y10_pkl:\n",
    "            pickle.dump(y_10, y10_pkl, protocol=2)"
   ]
  },
  {
   "cell_type": "code",
   "execution_count": 63,
   "metadata": {},
   "outputs": [],
   "source": [
    "# для 150 пользователей\n",
    "import itertools\n",
    "num_users = 150\n",
    "for window_size, session_length in itertools.product([10, 7, 5], [15, 10, 7, 5]):\n",
    "    if window_size <= session_length and (window_size, session_length) != (10, 10):\n",
    "        X_sparse_150, y_150 = prepare_sparse_train_set_window(os.path.join(PATH_TO_DATA,'150users'), \n",
    "                                                       os.path.join(PATH_TO_DATA,'site_freq_150users.pkl'),\n",
    "                                       session_length, window_size)\n",
    "        data_lengths.append(len(y_150))\n",
    "        with open(os.path.join(PATH_TO_DATA, \n",
    "                       'X_sparse_{}users_s{}_w{}.pkl'.format(num_users,session_length,window_size)), 'wb') as X10_pkl:\n",
    "            pickle.dump(X_sparse_150, X10_pkl, protocol=2)    \n",
    "        with open(os.path.join(PATH_TO_DATA, \n",
    "                       'y_{}users_s{}_w{}.pkl'.format(num_users,session_length,window_size)), 'wb') as y10_pkl:\n",
    "            pickle.dump(y_150, y10_pkl, protocol=2)"
   ]
  },
  {
   "cell_type": "markdown",
   "metadata": {},
   "source": [
    "## Первичный анализ данных, проверка гипотез"
   ]
  },
  {
   "cell_type": "code",
   "execution_count": 28,
   "metadata": {},
   "outputs": [
    {
     "data": {
      "text/html": [
       "<div>\n",
       "<style scoped>\n",
       "    .dataframe tbody tr th:only-of-type {\n",
       "        vertical-align: middle;\n",
       "    }\n",
       "\n",
       "    .dataframe tbody tr th {\n",
       "        vertical-align: top;\n",
       "    }\n",
       "\n",
       "    .dataframe thead th {\n",
       "        text-align: right;\n",
       "    }\n",
       "</style>\n",
       "<table border=\"1\" class=\"dataframe\">\n",
       "  <thead>\n",
       "    <tr style=\"text-align: right;\">\n",
       "      <th></th>\n",
       "      <th>site1</th>\n",
       "      <th>site2</th>\n",
       "      <th>site3</th>\n",
       "      <th>site4</th>\n",
       "      <th>site5</th>\n",
       "      <th>site6</th>\n",
       "      <th>site7</th>\n",
       "      <th>site8</th>\n",
       "      <th>site9</th>\n",
       "      <th>site10</th>\n",
       "      <th>user_id</th>\n",
       "    </tr>\n",
       "    <tr>\n",
       "      <th>session_id</th>\n",
       "      <th></th>\n",
       "      <th></th>\n",
       "      <th></th>\n",
       "      <th></th>\n",
       "      <th></th>\n",
       "      <th></th>\n",
       "      <th></th>\n",
       "      <th></th>\n",
       "      <th></th>\n",
       "      <th></th>\n",
       "      <th></th>\n",
       "    </tr>\n",
       "  </thead>\n",
       "  <tbody>\n",
       "    <tr>\n",
       "      <th>0</th>\n",
       "      <td>1</td>\n",
       "      <td>2</td>\n",
       "      <td>3</td>\n",
       "      <td>4</td>\n",
       "      <td>3</td>\n",
       "      <td>3</td>\n",
       "      <td>4</td>\n",
       "      <td>3</td>\n",
       "      <td>5</td>\n",
       "      <td>3</td>\n",
       "      <td>1</td>\n",
       "    </tr>\n",
       "    <tr>\n",
       "      <th>1</th>\n",
       "      <td>6</td>\n",
       "      <td>7</td>\n",
       "      <td>8</td>\n",
       "      <td>9</td>\n",
       "      <td>3</td>\n",
       "      <td>10</td>\n",
       "      <td>11</td>\n",
       "      <td>12</td>\n",
       "      <td>13</td>\n",
       "      <td>14</td>\n",
       "      <td>1</td>\n",
       "    </tr>\n",
       "    <tr>\n",
       "      <th>2</th>\n",
       "      <td>14</td>\n",
       "      <td>4</td>\n",
       "      <td>14</td>\n",
       "      <td>14</td>\n",
       "      <td>15</td>\n",
       "      <td>16</td>\n",
       "      <td>6</td>\n",
       "      <td>17</td>\n",
       "      <td>18</td>\n",
       "      <td>14</td>\n",
       "      <td>1</td>\n",
       "    </tr>\n",
       "  </tbody>\n",
       "</table>\n",
       "</div>"
      ],
      "text/plain": [
       "            site1  site2  site3  site4  site5  site6  site7  site8  site9  \\\n",
       "session_id                                                                  \n",
       "0               1      2      3      4      3      3      4      3      5   \n",
       "1               6      7      8      9      3     10     11     12     13   \n",
       "2              14      4     14     14     15     16      6     17     18   \n",
       "\n",
       "            site10  user_id  \n",
       "session_id                   \n",
       "0                3        1  \n",
       "1               14        1  \n",
       "2               14        1  "
      ]
     },
     "execution_count": 28,
     "metadata": {},
     "output_type": "execute_result"
    }
   ],
   "source": [
    "#Считаем в DataFrame подготовленный ранее файл `train_data_10users.csv`\n",
    "train_df = pd.read_csv(os.path.join(PATH_TO_DATA, 'train_data_10users.csv'), \n",
    "                       index_col='session_id')\n",
    "train_df.head(3)"
   ]
  },
  {
   "cell_type": "code",
   "execution_count": 30,
   "metadata": {},
   "outputs": [
    {
     "data": {
      "text/plain": [
       "7     2796\n",
       "3     2204\n",
       "8     1868\n",
       "6     1712\n",
       "9     1643\n",
       "2     1022\n",
       "4      802\n",
       "1      760\n",
       "5      720\n",
       "10     534\n",
       "Name: user_id, dtype: int64"
      ]
     },
     "execution_count": 30,
     "metadata": {},
     "output_type": "execute_result"
    }
   ],
   "source": [
    "# распределение целевого класса\n",
    "train_df['user_id'].value_counts()"
   ]
  },
  {
   "cell_type": "markdown",
   "metadata": {},
   "source": [
    "**Посчитаем распределение числа уникальных сайтов в каждой сессии из 10 посещенных подряд сайтов.**"
   ]
  },
  {
   "cell_type": "code",
   "execution_count": 31,
   "metadata": {},
   "outputs": [],
   "source": [
    "num_unique_sites = [np.unique(train_df.values[i, :-1]).shape[0] \n",
    "                    for i in range(train_df.shape[0])]"
   ]
  },
  {
   "cell_type": "code",
   "execution_count": 32,
   "metadata": {},
   "outputs": [
    {
     "data": {
      "image/png": "[encoded data removed]",
      "text/plain": [
       "<Figure size 432x288 with 1 Axes>"
      ]
     },
     "metadata": {
      "needs_background": "light"
     },
     "output_type": "display_data"
    }
   ],
   "source": [
    "pd.Series(num_unique_sites).hist();"
   ]
  },
  {
   "cell_type": "code",
   "execution_count": 34,
   "metadata": {},
   "outputs": [
    {
     "data": {
      "text/plain": [
       "ShapiroResult(statistic=0.9546933174133301, pvalue=0.0)"
      ]
     },
     "execution_count": 34,
     "metadata": {},
     "output_type": "execute_result"
    }
   ],
   "source": [
    "from scipy import stats\n",
    "# проверка с помощью критерия Шапиро-Уилка, что величина распределена нормально\n",
    "shapiro_test = stats.shapiro(num_unique_sites)\n",
    "shapiro_test"
   ]
  },
  {
   "cell_type": "code",
   "execution_count": 37,
   "metadata": {},
   "outputs": [
    {
     "data": {
      "image/png": "[encoded data removed]",
      "text/plain": [
       "<Figure size 432x288 with 1 Axes>"
      ]
     },
     "metadata": {
      "needs_background": "light"
     },
     "output_type": "display_data"
    }
   ],
   "source": [
    "import statsmodels.api as sm\n",
    "from matplotlib import pyplot as plt\n",
    "# проверка нормальности с помощью QQ-плота\n",
    "num_unique_sites11 = np.array(num_unique_sites)\n",
    "fig = sm.qqplot(num_unique_sites11, line='s')\n",
    "plt.show()"
   ]
  },
  {
   "cell_type": "markdown",
   "metadata": {},
   "source": [
    "По результатам тестов видно, что величина распределена не нормально"
   ]
  },
  {
   "cell_type": "markdown",
   "metadata": {},
   "source": [
    "Построим распределение частоты посещения сайтов (сколько раз тот или иной сайт попадается в выборке) для сайтов, которые были посещены как минимум 1000 раз."
   ]
  },
  {
   "cell_type": "code",
   "execution_count": 44,
   "metadata": {},
   "outputs": [],
   "source": [
    "site_freqs = []\n",
    "for i in range(train_df.values.shape[0]):\n",
    "    for j in range(train_df.values.shape[1]):\n",
    "         if train_df.values[i][j] >= 1000:\n",
    "                site_freqs.append(train_df.values[i][j])\n",
    "nn = train_df[train_df >= 1000]"
   ]
  },
  {
   "cell_type": "code",
   "execution_count": 45,
   "metadata": {},
   "outputs": [
    {
     "data": {
      "image/png": "[encoded data removed]",
      "text/plain": [
       "<Figure size 432x288 with 1 Axes>"
      ]
     },
     "metadata": {
      "needs_background": "light"
     },
     "output_type": "display_data"
    }
   ],
   "source": [
    "pd.Series(site_freqs).hist();"
   ]
  },
  {
   "cell_type": "markdown",
   "metadata": {},
   "source": [
    "# <center>2. Визуальный анализ данных и построение признаков"
   ]
  },
  {
   "cell_type": "markdown",
   "metadata": {},
   "source": [
    "**Создадим на основе функций *prepare_train_set* и *prepare_sparse_train_set_window*  новую – *prepare_train_set_with_fe*, (от \"feature engineering\"), со следующими признаками**\n",
    "- `session_timespan` – продолжительность сессии (разница между максимальным и минимальным временем посещения сайтов в сессии, в секундах)\n",
    "- `#unique_sites` – число уникальных сайтов в сессии \n",
    "- `start_hour` – час начала сессии (то есть час в записи минимального timestamp среди десяти)\n",
    "- `day_of_week` – день недели (то есть день недели в записи минимального timestamp среди десяти)\n",
    "\n",
    "Функция должна возвращать новый DataFrame"
   ]
  },
  {
   "cell_type": "code",
   "execution_count": 66,
   "metadata": {},
   "outputs": [],
   "source": [
    "def prepare_train_set_with_fe(path_to_csv_files, site_freq_path, feature_names,\n",
    "                                    session_length=10, window_size=10):   \n",
    "    with open(site_freq_path, 'rb') as f:\n",
    "        site_freq = pickle.load(f)\n",
    "    glob1 = glob(os.path.join(path_to_csv_files, '*.csv'))\n",
    "    \n",
    "    word = 'site'\n",
    "    number = list(range(1,session_length+1))\n",
    "    columns = []\n",
    "    for i in number:\n",
    "        columns.append(\"{}{}\".format(word, i))\n",
    "# добавление новых признаков\n",
    "    columns.append('session_timespan')\n",
    "    columns.append('#unique_sites')\n",
    "    columns.append('start_hour')\n",
    "    columns.append('day_of_week')\n",
    "    columns.append('user_id')\n",
    "    sum1 = 0\n",
    "    for file in glob1:\n",
    "        df = pd.read_csv(file)\n",
    "        sum1 = len(df) + sum1\n",
    "        sum2 = math.ceil(sum1/window_size + len(glob1))\n",
    "    data = pd.DataFrame(index=range(sum2), columns=columns)\n",
    "\n",
    "    s = 0\n",
    "    s1 = 0\n",
    "    j = 0\n",
    "    list2 = []\n",
    "    for file in glob1:\n",
    "        df = pd.read_csv(file)\n",
    "        user = int(file[-8:-4])\n",
    "        df['timestamp'] = pd.to_datetime(df.timestamp)\n",
    "        i = 0    \n",
    "        while i < len(df.site):    \n",
    "            list2.append(site_freq[df.site[i]][0])\n",
    "            s += 1\n",
    "            if (s == session_length) and (i != len(df.site)-1):\n",
    "# вычисление новых признаков\n",
    "                unique_sites = len(np.unique(list2))\n",
    "                session_timespan = int((df.timestamp[i] - df.timestamp[i-session_length+1]).total_seconds())\n",
    "                day_of_week = datetime.isoweekday(df.timestamp[i-session_length+1])\n",
    "                list2.append(session_timespan)\n",
    "                list2.append(unique_sites)\n",
    "                list2.append(df.timestamp.dt.hour[i-session_length+1])\n",
    "                list2.append(day_of_week)\n",
    "                list2.append(user)\n",
    "                data.iloc[j] = list2         \n",
    "                j += 1\n",
    "                list2 = []\n",
    "                s = 0\n",
    "                i = i - (session_length - window_size)\n",
    "            if (i == len(df.site)-1):\n",
    "                unique_sites = len(np.unique(list2))\n",
    "                for g in range(session_length - s):\n",
    "                    list2.append(0)\n",
    "                    s1 += 1\n",
    "                session_timespan = int((df.timestamp[i] - df.timestamp[i-(session_length-s1)+1]).total_seconds())\n",
    "                day_of_week = datetime.isoweekday(df.timestamp[i-(session_length-s1)+1])\n",
    "                list2.append(session_timespan)\n",
    "                list2.append(unique_sites)\n",
    "                list2.append(df.timestamp.dt.hour[i-(session_length-s1)+1])\n",
    "                list2.append(day_of_week)\n",
    "                list2.append(user)\n",
    "                data.iloc[j] = list2\n",
    "                j += 1\n",
    "                list2 = []\n",
    "                if s > window_size:\n",
    "                    i = i + s1 - (session_length - window_size)\n",
    "                    s = 0\n",
    "                    s1 = 0\n",
    "            i += 1\n",
    "        s = 0\n",
    "        s1 = 0\n",
    "        user += 1\n",
    "    data.dropna(inplace=True)\n",
    "    \n",
    "    return data"
   ]
  },
  {
   "cell_type": "code",
   "execution_count": 68,
   "metadata": {},
   "outputs": [
    {
     "data": {
      "text/html": [
       "<div>\n",
       "<style scoped>\n",
       "    .dataframe tbody tr th:only-of-type {\n",
       "        vertical-align: middle;\n",
       "    }\n",
       "\n",
       "    .dataframe tbody tr th {\n",
       "        vertical-align: top;\n",
       "    }\n",
       "\n",
       "    .dataframe thead th {\n",
       "        text-align: right;\n",
       "    }\n",
       "</style>\n",
       "<table border=\"1\" class=\"dataframe\">\n",
       "  <thead>\n",
       "    <tr style=\"text-align: right;\">\n",
       "      <th></th>\n",
       "      <th>site1</th>\n",
       "      <th>site2</th>\n",
       "      <th>site3</th>\n",
       "      <th>site4</th>\n",
       "      <th>site5</th>\n",
       "      <th>site6</th>\n",
       "      <th>site7</th>\n",
       "      <th>site8</th>\n",
       "      <th>site9</th>\n",
       "      <th>site10</th>\n",
       "      <th>session_timespan</th>\n",
       "      <th>#unique_sites</th>\n",
       "      <th>start_hour</th>\n",
       "      <th>day_of_week</th>\n",
       "      <th>user_id</th>\n",
       "    </tr>\n",
       "  </thead>\n",
       "  <tbody>\n",
       "    <tr>\n",
       "      <th>0</th>\n",
       "      <td>1</td>\n",
       "      <td>2</td>\n",
       "      <td>2</td>\n",
       "      <td>3</td>\n",
       "      <td>2</td>\n",
       "      <td>4</td>\n",
       "      <td>5</td>\n",
       "      <td>6</td>\n",
       "      <td>7</td>\n",
       "      <td>8</td>\n",
       "      <td>7998</td>\n",
       "      <td>8</td>\n",
       "      <td>9</td>\n",
       "      <td>5</td>\n",
       "      <td>1</td>\n",
       "    </tr>\n",
       "    <tr>\n",
       "      <th>1</th>\n",
       "      <td>1</td>\n",
       "      <td>4</td>\n",
       "      <td>4</td>\n",
       "      <td>4</td>\n",
       "      <td>0</td>\n",
       "      <td>0</td>\n",
       "      <td>0</td>\n",
       "      <td>0</td>\n",
       "      <td>0</td>\n",
       "      <td>0</td>\n",
       "      <td>60</td>\n",
       "      <td>2</td>\n",
       "      <td>12</td>\n",
       "      <td>5</td>\n",
       "      <td>1</td>\n",
       "    </tr>\n",
       "    <tr>\n",
       "      <th>2</th>\n",
       "      <td>1</td>\n",
       "      <td>2</td>\n",
       "      <td>9</td>\n",
       "      <td>9</td>\n",
       "      <td>2</td>\n",
       "      <td>0</td>\n",
       "      <td>0</td>\n",
       "      <td>0</td>\n",
       "      <td>0</td>\n",
       "      <td>0</td>\n",
       "      <td>7935</td>\n",
       "      <td>3</td>\n",
       "      <td>9</td>\n",
       "      <td>5</td>\n",
       "      <td>2</td>\n",
       "    </tr>\n",
       "  </tbody>\n",
       "</table>\n",
       "</div>"
      ],
      "text/plain": [
       "  site1 site2 site3 site4 site5 site6 site7 site8 site9 site10  \\\n",
       "0     1     2     2     3     2     4     5     6     7      8   \n",
       "1     1     4     4     4     0     0     0     0     0      0   \n",
       "2     1     2     9     9     2     0     0     0     0      0   \n",
       "\n",
       "  session_timespan #unique_sites start_hour day_of_week user_id  \n",
       "0             7998             8          9           5       1  \n",
       "1               60             2         12           5       1  \n",
       "2             7935             3          9           5       2  "
      ]
     },
     "execution_count": 68,
     "metadata": {},
     "output_type": "execute_result"
    }
   ],
   "source": [
    "from datetime import datetime\n",
    "from datetime import timedelta\n",
    "feature_names = ['site' + str(i) for i in range(1,11)] + \\\n",
    "                ['time_diff' + str(j) for j in range(1,10)] + \\\n",
    "                ['session_timespan', '#unique_sites', 'start_hour', \n",
    "                 'day_of_week', 'target']\n",
    "train_data_toy  = prepare_train_set_with_fe(os.path.join(PATH_TO_DATA, \n",
    "                                                         '3users'), \n",
    "                  site_freq_path=os.path.join(PATH_TO_DATA, \n",
    "                                              'site_freq_3users.pkl'),\n",
    "                  feature_names=feature_names, session_length=10)\n",
    "train_data_toy.head(3)"
   ]
  },
  {
   "cell_type": "code",
   "execution_count": 69,
   "metadata": {},
   "outputs": [
    {
     "data": {
      "text/html": [
       "<div>\n",
       "<style scoped>\n",
       "    .dataframe tbody tr th:only-of-type {\n",
       "        vertical-align: middle;\n",
       "    }\n",
       "\n",
       "    .dataframe tbody tr th {\n",
       "        vertical-align: top;\n",
       "    }\n",
       "\n",
       "    .dataframe thead th {\n",
       "        text-align: right;\n",
       "    }\n",
       "</style>\n",
       "<table border=\"1\" class=\"dataframe\">\n",
       "  <thead>\n",
       "    <tr style=\"text-align: right;\">\n",
       "      <th></th>\n",
       "      <th>site1</th>\n",
       "      <th>site2</th>\n",
       "      <th>site3</th>\n",
       "      <th>site4</th>\n",
       "      <th>site5</th>\n",
       "      <th>site6</th>\n",
       "      <th>site7</th>\n",
       "      <th>site8</th>\n",
       "      <th>site9</th>\n",
       "      <th>site10</th>\n",
       "      <th>session_timespan</th>\n",
       "      <th>#unique_sites</th>\n",
       "      <th>start_hour</th>\n",
       "      <th>day_of_week</th>\n",
       "      <th>user_id</th>\n",
       "    </tr>\n",
       "  </thead>\n",
       "  <tbody>\n",
       "    <tr>\n",
       "      <th>0</th>\n",
       "      <td>1</td>\n",
       "      <td>2</td>\n",
       "      <td>3</td>\n",
       "      <td>4</td>\n",
       "      <td>3</td>\n",
       "      <td>3</td>\n",
       "      <td>4</td>\n",
       "      <td>3</td>\n",
       "      <td>5</td>\n",
       "      <td>3</td>\n",
       "      <td>33</td>\n",
       "      <td>5</td>\n",
       "      <td>8</td>\n",
       "      <td>5</td>\n",
       "      <td>31</td>\n",
       "    </tr>\n",
       "    <tr>\n",
       "      <th>1</th>\n",
       "      <td>6</td>\n",
       "      <td>7</td>\n",
       "      <td>8</td>\n",
       "      <td>9</td>\n",
       "      <td>3</td>\n",
       "      <td>10</td>\n",
       "      <td>11</td>\n",
       "      <td>12</td>\n",
       "      <td>13</td>\n",
       "      <td>14</td>\n",
       "      <td>284</td>\n",
       "      <td>10</td>\n",
       "      <td>8</td>\n",
       "      <td>5</td>\n",
       "      <td>31</td>\n",
       "    </tr>\n",
       "    <tr>\n",
       "      <th>2</th>\n",
       "      <td>14</td>\n",
       "      <td>4</td>\n",
       "      <td>14</td>\n",
       "      <td>14</td>\n",
       "      <td>15</td>\n",
       "      <td>16</td>\n",
       "      <td>6</td>\n",
       "      <td>17</td>\n",
       "      <td>18</td>\n",
       "      <td>14</td>\n",
       "      <td>258</td>\n",
       "      <td>7</td>\n",
       "      <td>8</td>\n",
       "      <td>5</td>\n",
       "      <td>31</td>\n",
       "    </tr>\n",
       "  </tbody>\n",
       "</table>\n",
       "</div>"
      ],
      "text/plain": [
       "  site1 site2 site3 site4 site5 site6 site7 site8 site9 site10  \\\n",
       "0     1     2     3     4     3     3     4     3     5      3   \n",
       "1     6     7     8     9     3    10    11    12    13     14   \n",
       "2    14     4    14    14    15    16     6    17    18     14   \n",
       "\n",
       "  session_timespan #unique_sites start_hour day_of_week user_id  \n",
       "0               33             5          8           5      31  \n",
       "1              284            10          8           5      31  \n",
       "2              258             7          8           5      31  "
      ]
     },
     "execution_count": 69,
     "metadata": {},
     "output_type": "execute_result"
    }
   ],
   "source": [
    "# для 10 пользователей\n",
    "train_data_10users = prepare_train_set_with_fe(os.path.join(PATH_TO_DATA, \n",
    "                                                         '10users'), \n",
    "                  site_freq_path=os.path.join(PATH_TO_DATA, \n",
    "                                              'site_freq_10users.pkl'),\n",
    "                  feature_names=feature_names, session_length=10)\n",
    "train_data_10users.head(3)"
   ]
  },
  {
   "cell_type": "code",
   "execution_count": 70,
   "metadata": {},
   "outputs": [],
   "source": [
    "# для 150 пользователей\n",
    "train_data_150users = prepare_train_set_with_fe(os.path.join(PATH_TO_DATA, \n",
    "                                                         '150users'), \n",
    "                  site_freq_path=os.path.join(PATH_TO_DATA, \n",
    "                                              'site_freq_150users.pkl'),\n",
    "                  feature_names=feature_names, session_length=10)"
   ]
  },
  {
   "cell_type": "markdown",
   "metadata": {},
   "source": [
    "## Визуальный анализ данных"
   ]
  },
  {
   "cell_type": "code",
   "execution_count": 72,
   "metadata": {},
   "outputs": [],
   "source": [
    "# зададим для пользователей имена и ассоциируем их с цветами для визуализации\n",
    "id_name_dict = {128: 'Mary-Kate', 39: 'Ashley', 207: 'Lindsey', 127: 'Naomi', 237: 'Avril',\n",
    "               33: 'Bob', 50: 'Bill', 31: 'John', 100: 'Dick', 241: 'Ed'}\n",
    "train_data_10users['user_id'] = train_data_10users['user_id'].map(id_name_dict)\n",
    "\n",
    "color_dic = {'Mary-Kate': 'pink', 'Ashley': 'darkviolet', 'Lindsey':'blueviolet', \n",
    "             'Naomi': 'hotpink', 'Avril': 'orchid', \n",
    "             'Bob': 'firebrick', 'Bill': 'gold', 'John': 'forestgreen', \n",
    "             'Dick': 'slategrey', 'Ed':'brown'}"
   ]
  },
  {
   "cell_type": "code",
   "execution_count": 73,
   "metadata": {},
   "outputs": [
    {
     "data": {
      "image/png": "[encoded data removed]",
      "text/plain": [
       "<Figure size 1080x504 with 1 Axes>"
      ]
     },
     "metadata": {
      "needs_background": "light"
     },
     "output_type": "display_data"
    }
   ],
   "source": [
    "# построим гистограмму распределения длины сессии в секундах\n",
    "fig, ax = plt.subplots(figsize=(15, 7))\n",
    "kwargs ={\"color\":\"darkviolet\"}\n",
    "plt.xlabel('Продолжительность сессии в секeндах')\n",
    "plt.title('Гистограмма распределения длины сессии в секундах',fontsize=14)\n",
    "((train_data_10users['session_timespan'].values <= 200)*train_data_10users['session_timespan']).hist(bins=100, **kwargs)\n",
    "plt.show()"
   ]
  },
  {
   "cell_type": "code",
   "execution_count": 75,
   "metadata": {},
   "outputs": [
    {
     "data": {
      "text/plain": [
       "<matplotlib.axes._subplots.AxesSubplot at 0x25b36faff40>"
      ]
     },
     "execution_count": 75,
     "metadata": {},
     "output_type": "execute_result"
    },
    {
     "data": {
      "image/png": "[encoded data removed]",
      "text/plain": [
       "<Figure size 1080x504 with 1 Axes>"
      ]
     },
     "metadata": {
      "needs_background": "light"
     },
     "output_type": "display_data"
    }
   ],
   "source": [
    "# построим гистограмму распределения числа уникальных сайтов в сессии\n",
    "import matplotlib.ticker as ticker\n",
    "fig, ax = plt.subplots(figsize=(15, 7))\n",
    "plt.xlabel('Число уникальных сайтов в сессии')\n",
    "plt.title('Гистограмма распределения числа уникальных сайтов в сессии',fontsize=14)\n",
    "kwargs ={\"color\":\"aqua\"}\n",
    "ax.xaxis.set_major_locator(ticker.MultipleLocator(1))\n",
    "train_data_10users['#unique_sites'].hist(bins=40, **kwargs)"
   ]
  },
  {
   "cell_type": "code",
   "execution_count": 76,
   "metadata": {},
   "outputs": [
    {
     "name": "stdout",
     "output_type": "stream",
     "text": [
      "Populating the interactive namespace from numpy and matplotlib\n"
     ]
    },
    {
     "data": {
      "image/png": "[encoded data removed]",
      "text/plain": [
       "<Figure size 1152x720 with 10 Axes>"
      ]
     },
     "metadata": {
      "needs_background": "light"
     },
     "output_type": "display_data"
    }
   ],
   "source": [
    "# Постройте гистограммы распределения числа уникальных сайтов в сессии \n",
    "# (#unique_sites) для каждого из 10 пользователей по отдельности\n",
    "%pylab inline\n",
    "pyplot.figure(figsize(16,10))\n",
    "\n",
    "user_list = ['Mary-Kate', 'Ashley', 'Lindsey', 'Naomi', 'Avril', 'Bob', 'Bill', 'John', 'Dick', 'Ed']\n",
    "\n",
    "plot_number = 0\n",
    "for user in user_list:\n",
    "    plot_number += 1\n",
    "    pyplot.subplot(3,4,plot_number)\n",
    "    pyplot.hist(train_data_10users[train_data_10users.user_id == user]['#unique_sites'],color=color_dic[user], bins=20)\n",
    "    pyplot.xlabel('Число уникальных сайтов в сессии')\n",
    "    pyplot.legend(user,title=user, loc='upper left')"
   ]
  },
  {
   "cell_type": "code",
   "execution_count": 77,
   "metadata": {},
   "outputs": [
    {
     "data": {
      "text/plain": [
       "<matplotlib.axes._subplots.AxesSubplot at 0x25b35054490>"
      ]
     },
     "execution_count": 77,
     "metadata": {},
     "output_type": "execute_result"
    },
    {
     "data": {
      "image/png": "[encoded data removed]",
      "text/plain": [
       "<Figure size 1080x504 with 1 Axes>"
      ]
     },
     "metadata": {
      "needs_background": "light"
     },
     "output_type": "display_data"
    }
   ],
   "source": [
    "# построим гистограмму распределения часа начала сессии\n",
    "fig, ax = plt.subplots(figsize=(15, 7))\n",
    "plt.xlabel('Час начала сессии')\n",
    "plt.title('Гистограмма распределения часа начала сессии',fontsize=14)\n",
    "kwargs ={\"color\":\"darkgreen\"}\n",
    "ax.xaxis.set_major_locator(ticker.MultipleLocator(1))\n",
    "train_data_10users['start_hour'].hist(bins=32, **kwargs)"
   ]
  },
  {
   "cell_type": "code",
   "execution_count": 78,
   "metadata": {},
   "outputs": [
    {
     "name": "stdout",
     "output_type": "stream",
     "text": [
      "Populating the interactive namespace from numpy and matplotlib\n"
     ]
    },
    {
     "data": {
      "image/png": "[encoded data removed]",
      "text/plain": [
       "<Figure size 1152x720 with 10 Axes>"
      ]
     },
     "metadata": {
      "needs_background": "light"
     },
     "output_type": "display_data"
    }
   ],
   "source": [
    "# Постройте гистограммы распределения часа начала сессии \n",
    "# (start_hour) для каждого из 10 пользователей по отдельности\n",
    "%pylab inline\n",
    "pyplot.figure(figsize(16,10))\n",
    "\n",
    "user_list = ['Mary-Kate', 'Ashley', 'Lindsey', 'Naomi', 'Avril', 'Bob', 'Bill', 'John', 'Dick', 'Ed']\n",
    "\n",
    "plot_number = 0\n",
    "for user in user_list:\n",
    "    plot_number += 1\n",
    "    pyplot.subplot(3,4,plot_number)\n",
    "    pyplot.hist(train_data_10users[train_data_10users.user_id == user]['start_hour'],color=color_dic[user],bins=32)\n",
    "    pyplot.xlabel('Час начала сессии')\n",
    "    pyplot.legend(user,title=user, loc='upper right')"
   ]
  },
  {
   "cell_type": "code",
   "execution_count": 79,
   "metadata": {},
   "outputs": [
    {
     "data": {
      "text/plain": [
       "<matplotlib.axes._subplots.AxesSubplot at 0x25b36fadb50>"
      ]
     },
     "execution_count": 79,
     "metadata": {},
     "output_type": "execute_result"
    },
    {
     "data": {
      "image/png": "[encoded data removed]",
      "text/plain": [
       "<Figure size 1080x504 with 1 Axes>"
      ]
     },
     "metadata": {
      "needs_background": "light"
     },
     "output_type": "display_data"
    }
   ],
   "source": [
    "# построим гистограмму распределения дня недели, в которых началась сессия (day_of_week)\n",
    "fig, ax = plt.subplots(figsize=(15, 7))\n",
    "plt.xlabel('День недели')\n",
    "plt.title('Гистограмма распределения дней недели',fontsize=14)\n",
    "kwargs ={\"color\":\"sienna\"}\n",
    "train_data_10users['day_of_week'].hist(bins=21, **kwargs)"
   ]
  },
  {
   "cell_type": "code",
   "execution_count": 80,
   "metadata": {},
   "outputs": [
    {
     "name": "stdout",
     "output_type": "stream",
     "text": [
      "Populating the interactive namespace from numpy and matplotlib\n"
     ]
    },
    {
     "data": {
      "image/png": "[encoded data removed]",
      "text/plain": [
       "<Figure size 1152x720 with 10 Axes>"
      ]
     },
     "metadata": {
      "needs_background": "light"
     },
     "output_type": "display_data"
    }
   ],
   "source": [
    "# Постройте гистограммы распределения дня недели, в которых началась сессия (day_of_week) \n",
    "# для каждого из 10 пользователей по отдельности\n",
    "%pylab inline\n",
    "pyplot.figure(figsize(16,10))\n",
    "\n",
    "user_list = ['Mary-Kate', 'Ashley', 'Lindsey', 'Naomi', 'Avril', 'Bob', 'Bill', 'John', 'Dick', 'Ed']\n",
    "\n",
    "plot_number = 0\n",
    "for user in user_list:\n",
    "    plot_number += 1\n",
    "    pyplot.subplot(3,4,plot_number)\n",
    "    hist(train_data_10users[train_data_10users.user_id == user]['day_of_week'],color=color_dic[user],bins=21)\n",
    "    xticks(np.arange(1,8), ('Пн', 'Вт', 'Ср', 'Чт', 'Пт', 'Сб', 'Вс'))\n",
    "    pyplot.xlabel('День недели')\n",
    "    pyplot.legend(user,title=user, loc='upper left')"
   ]
  },
  {
   "cell_type": "markdown",
   "metadata": {},
   "source": [
    "Исходя из визуального анализа можно сделать следующие выводы:\n",
    "\n",
    "   Пользователи практически не начинают сессию в период с 23 вечера до 8 утра. Активность пользователей во вт, ср и чт сравнительно выше других дней.\n",
    "    John: Начинает сессию в основном в первой половине дня, посещает преимущественно разные сайты за сессию, в выходные не посещает никакие сайты.\n",
    "    Bob: Начинает сессию в основном в пределах (возможно) рабочего дня с 8 до 18, посещает в среднем 5 уникальных сайтов за сессию, в выходные полностью не активен.\n",
    "    Ashley: Начинает сессию в основном в первой половине дня, в выходные полностью не активна.\n",
    "    Bill: Начало сессии в основном приходится на утро (7-9 часов) и день (14-15), основная активность приходится на пн и вт, в выходные также посещает сайты.\n",
    "    Dick: Активен в среднем в течении всего светового дня, посещает различное количество уникальных сайтов за сессию, основная активность приходится на ср, пт и выходные дни.\n",
    "    Naomi : Начинает сессию преимущественно днем (с 12 до 16), активна в течении всей недели.\n",
    "    Mary-Kate: Активна в среднем в течении всего светового дня, часто посещает в районе 2 уникальных сайтов за сессию, активна в течении всей недели.\n",
    "    Linsdey: Начинает сессию преимущественно днем (с 12 до 15), редко посещает одинаковые сайты, активна по большей части в течении всей недели, основная активность приходится на вт и ср.\n",
    "    Avril: В основном начинает сессию во время рабочего дня, в среднем посещает 5 уникальных сайтов за сессию, активна в течении всей недели.\n",
    "    Ed: Активен в среднем в течении всего светового дня (пик приходится на 16 часов), посещает много уникальных сайтов за сессию, практически отсутствует активность в пн и чт.\n"
   ]
  },
  {
   "cell_type": "code",
   "execution_count": 83,
   "metadata": {},
   "outputs": [
    {
     "data": {
      "text/plain": [
       "(array([0, 1, 2, 3, 4, 5, 6, 7, 8, 9]),\n",
       " <a list of 10 Text major ticklabel objects>)"
      ]
     },
     "execution_count": 83,
     "metadata": {},
     "output_type": "execute_result"
    },
    {
     "data": {
      "image/png": "[encoded data removed]",
      "text/plain": [
       "<Figure size 1152x720 with 1 Axes>"
      ]
     },
     "metadata": {
      "needs_background": "light"
     },
     "output_type": "display_data"
    }
   ],
   "source": [
    "# нарисуем seaborn barplot, показывающий частотты посещения топ 10 сайтов\n",
    "import seaborn as sns\n",
    "with open(os.path.join(PATH_TO_DATA,'site_freq_10users.pkl'), 'rb') as f:\n",
    "        site_freq = pickle.load(f)\n",
    "list_d = sorted(site_freq.items(), key=lambda item:item[1][1], reverse=True)\n",
    "top10_freqs = []\n",
    "top10_sites =[]\n",
    "for i in range(10):\n",
    "    top10_sites.append(list_d[i][0])\n",
    "    top10_freqs.append(list_d[i][1][1])   \n",
    "sns.barplot(top10_sites, top10_freqs)\n",
    "plt.xticks(rotation='vertical')"
   ]
  },
  {
   "cell_type": "markdown",
   "metadata": {},
   "source": [
    "# <center>3. Сравнение алгоритмов классификации"
   ]
  },
  {
   "cell_type": "code",
   "execution_count": 87,
   "metadata": {},
   "outputs": [],
   "source": [
    "from sklearn.model_selection import train_test_split, cross_val_score, StratifiedKFold, GridSearchCV\n",
    "from sklearn.metrics import accuracy_score, f1_score"
   ]
  },
  {
   "cell_type": "code",
   "execution_count": 85,
   "metadata": {},
   "outputs": [
    {
     "data": {
      "text/plain": [
       "(14061, 4913)"
      ]
     },
     "execution_count": 85,
     "metadata": {},
     "output_type": "execute_result"
    }
   ],
   "source": [
    "# Загрузим сериализованные ранее объекты *X_sparse_10users* и *y_10users*, соответствующие обучающей\n",
    "# выборке для 10 пользователей.\n",
    "with open(os.path.join(PATH_TO_DATA, \n",
    "         'X_sparse_10users.pkl'), 'rb') as X_sparse_10users_pkl:\n",
    "    X_sparse_10users = pickle.load(X_sparse_10users_pkl)\n",
    "with open(os.path.join(PATH_TO_DATA, \n",
    "                       'y_10users.pkl'), 'rb') as y_10users_pkl:\n",
    "    y_10users = pickle.load(y_10users_pkl)\n",
    "\n",
    "X_sparse_10users.shape"
   ]
  },
  {
   "cell_type": "code",
   "execution_count": 88,
   "metadata": {},
   "outputs": [],
   "source": [
    "# Разобьем выборку на 2 части. На одной будем проводить кросс-валидацию, \n",
    "# на второй – оценивать модель, обученную после кросс-валидации.\n",
    "X_train, X_valid, y_train, y_valid = train_test_split(X_sparse_10users, y_10users, \n",
    "                                                      test_size=0.3, \n",
    "                                                     random_state=17, stratify=y_10users)\n",
    "y_train = y_train.astype('int')\n",
    "y_valid = y_valid.astype('int')"
   ]
  },
  {
   "cell_type": "code",
   "execution_count": 89,
   "metadata": {},
   "outputs": [],
   "source": [
    "# Зададим заранее тип кросс-валидации: 3-кратная, с перемешиванием.\n",
    "skf = StratifiedKFold(n_splits=3, shuffle=True, random_state=17)"
   ]
  },
  {
   "cell_type": "code",
   "execution_count": 90,
   "metadata": {},
   "outputs": [],
   "source": [
    "# Вспомогательная функция для отрисовки кривых валидации после запуска GridSearchCV (или RandomizedCV).\n",
    "def plot_validation_curves(param_values, grid_cv_results_):\n",
    "    train_mu, train_std = grid_cv_results_['mean_train_score'], grid_cv_results_['std_train_score']\n",
    "    valid_mu, valid_std = grid_cv_results_['mean_test_score'], grid_cv_results_['std_test_score']\n",
    "    train_line = plt.plot(param_values, train_mu, '-', label='train', color='green')\n",
    "    valid_line = plt.plot(param_values, valid_mu, '-', label='test', color='red')\n",
    "    plt.fill_between(param_values, train_mu - train_std, train_mu + train_std, edgecolor='none',\n",
    "                     facecolor=train_line[0].get_color(), alpha=0.2)\n",
    "    plt.fill_between(param_values, valid_mu - valid_std, valid_mu + valid_std, edgecolor='none',\n",
    "                     facecolor=valid_line[0].get_color(), alpha=0.2)\n",
    "    plt.legend()"
   ]
  },
  {
   "cell_type": "markdown",
   "metadata": {},
   "source": [
    "Обучим случайный лес (`RandomForestClassifier`) из 100 деревьев. Посмотрим на OOB-оценку и на долю правильных ответов на выборке `(X_valid, y_valid)`."
   ]
  },
  {
   "cell_type": "code",
   "execution_count": 91,
   "metadata": {},
   "outputs": [
    {
     "data": {
      "text/plain": [
       "0.7160138255984815"
      ]
     },
     "execution_count": 91,
     "metadata": {},
     "output_type": "execute_result"
    }
   ],
   "source": [
    "from sklearn.ensemble import RandomForestClassifier\n",
    "forest = RandomForestClassifier(n_estimators = 100, oob_score=True, n_jobs=-1, random_state=17) \n",
    "scores = cross_val_score(forest, X_train, y_train, cv=skf)\n",
    "scores.mean()"
   ]
  },
  {
   "cell_type": "code",
   "execution_count": 94,
   "metadata": {},
   "outputs": [
    {
     "data": {
      "text/plain": [
       "0.7350082958046931"
      ]
     },
     "execution_count": 94,
     "metadata": {},
     "output_type": "execute_result"
    }
   ],
   "source": [
    "# посчитаем долю правильных ответов для `RandomForestClassifier` при Out-of-Bag оценке \n",
    "# и на отложенной выборке. \n",
    "forest_otl = RandomForestClassifier(n_estimators = 100, oob_score=True, n_jobs=-1, random_state=17)\n",
    "forest_otl.fit(X_train, y_train)\n",
    "predictions = forest_otl.predict(X_valid) \n",
    "accuracy_score(y_valid, predictions)"
   ]
  },
  {
   "cell_type": "markdown",
   "metadata": {},
   "source": [
    "Обучим логистическую регрессию (`LogisticRegression`) с параметром `C` по умолчанию и `random_state`=17 (для воспроизводимости). Посмотрим на долю правильных ответов на кросс-валидации  и на выборке `(X_valid, y_valid)`. "
   ]
  },
  {
   "cell_type": "code",
   "execution_count": 95,
   "metadata": {},
   "outputs": [
    {
     "data": {
      "text/plain": [
       "0.7606189739891912"
      ]
     },
     "execution_count": 95,
     "metadata": {},
     "output_type": "execute_result"
    }
   ],
   "source": [
    "from sklearn.linear_model import LogisticRegression, LogisticRegressionCV\n",
    "logit = LogisticRegression(random_state=17,n_jobs=-1)\n",
    "log_score = cross_val_score(logit, X_train, y_train, cv=skf).mean()\n",
    "log_score"
   ]
  },
  {
   "cell_type": "code",
   "execution_count": 96,
   "metadata": {},
   "outputs": [
    {
     "data": {
      "text/plain": [
       "0.7767243422611994"
      ]
     },
     "execution_count": 96,
     "metadata": {},
     "output_type": "execute_result"
    }
   ],
   "source": [
    "logit.fit(X_train, y_train)\n",
    "log_score_valid = accuracy_score(y_valid, logit.predict(X_valid))\n",
    "log_score_valid"
   ]
  },
  {
   "cell_type": "markdown",
   "metadata": {},
   "source": [
    "С помощью `LogisticRegressionCV` подберем параметр `C` для `LogisticRegression` сначала в широком диапазоне: 10 значений от 1e-4 до 1e2. Укажим у `LogisticRegressionCV` параметры `multi_class`='multinomial' и `random_state`=17.\n",
    "\n",
    "Нарисуем кривые валидации по параметру `C`."
   ]
  },
  {
   "cell_type": "code",
   "execution_count": 97,
   "metadata": {},
   "outputs": [
    {
     "data": {
      "text/plain": [
       "LogisticRegressionCV(Cs=array([1.00000000e-04, 4.64158883e-04, 2.15443469e-03, 1.00000000e-02,\n",
       "       4.64158883e-02, 2.15443469e-01, 1.00000000e+00, 4.64158883e+00,\n",
       "       2.15443469e+01, 1.00000000e+02]),\n",
       "                     multi_class='multinomial', random_state=17)"
      ]
     },
     "execution_count": 97,
     "metadata": {},
     "output_type": "execute_result"
    }
   ],
   "source": [
    "logit_c_values1 = np.logspace(-4, 2, 10)\n",
    "logit_grid_searcher1 = LogisticRegressionCV(Cs=logit_c_values1, multi_class='multinomial', random_state=17) \n",
    "logit_grid_searcher1.fit(X_train, y_train)"
   ]
  },
  {
   "cell_type": "code",
   "execution_count": 98,
   "metadata": {},
   "outputs": [
    {
     "name": "stdout",
     "output_type": "stream",
     "text": [
      "Wall time: 15.1 s\n"
     ]
    }
   ],
   "source": [
    "%%time\n",
    "logit_mean_cv_scores1 = []\n",
    "logit_mean_cv_scores2 = []\n",
    "for c in logit_c_values1:\n",
    "    logit_c = LogisticRegression(C=c,random_state=17,n_jobs=-1)\n",
    "    log_score_c = cross_val_score(logit_c, X_train, y_train, cv=skf).mean()\n",
    "    logit_mean_cv_scores2.append([log_score_c, c])\n",
    "    logit_mean_cv_scores1.append(log_score_c)"
   ]
  },
  {
   "cell_type": "code",
   "execution_count": 99,
   "metadata": {},
   "outputs": [
    {
     "name": "stdout",
     "output_type": "stream",
     "text": [
      "0.761 1.0\n"
     ]
    }
   ],
   "source": [
    "# лучшее значение доли правильных ответов на кросс-валидации и соответствующее значение `C`.\n",
    "best_score_logit_c = sorted(logit_mean_cv_scores2, reverse=True)\n",
    "print(round(best_score_logit_c[0][0],3),best_score_logit_c[0][1])"
   ]
  },
  {
   "cell_type": "code",
   "execution_count": 100,
   "metadata": {},
   "outputs": [
    {
     "data": {
      "image/png": "[encoded data removed]",
      "text/plain": [
       "<Figure size 1152x720 with 1 Axes>"
      ]
     },
     "metadata": {
      "needs_background": "light"
     },
     "output_type": "display_data"
    }
   ],
   "source": [
    "# нарисуем график зависимости доли правильных ответов на кросс-валидации от `C`.\n",
    "plt.plot(logit_c_values1, logit_mean_cv_scores1);"
   ]
  },
  {
   "cell_type": "markdown",
   "metadata": {},
   "source": [
    "Теперь то же самое, для значения параметра `C` в диапазоне `np.linspace`(0.1, 7, 20)."
   ]
  },
  {
   "cell_type": "code",
   "execution_count": 101,
   "metadata": {},
   "outputs": [
    {
     "data": {
      "text/plain": [
       "3.7315789473684213"
      ]
     },
     "execution_count": 101,
     "metadata": {},
     "output_type": "execute_result"
    }
   ],
   "source": [
    "logit_c_values2 = np.linspace(0.1, 7, 20)\n",
    "logit_grid_searcher2 = LogisticRegressionCV(Cs=logit_c_values2, multi_class='multinomial', random_state=17) \n",
    "logit_grid_searcher2.fit(X_train, y_train)\n",
    "logit_grid_searcher2.Cs_[10]"
   ]
  },
  {
   "cell_type": "code",
   "execution_count": 110,
   "metadata": {},
   "outputs": [],
   "source": [
    "# Средние значения доли правильных ответов на кросс-валидации по каждому из 10 параметров `C`.\n",
    "logit_mean_cv_scores3 = []\n",
    "logit_mean_cv_scores4 = []\n",
    "for c in logit_c_values2:\n",
    "    logit_c = LogisticRegression(C=c,random_state=17,n_jobs=-1)\n",
    "    log_score_c = cross_val_score(logit_c, X_train, y_train, cv=skf).mean()\n",
    "    logit_mean_cv_scores4.append([log_score_c, c])\n",
    "    logit_mean_cv_scores3.append(log_score_c)"
   ]
  },
  {
   "cell_type": "code",
   "execution_count": 111,
   "metadata": {},
   "outputs": [
    {
     "name": "stdout",
     "output_type": "stream",
     "text": [
      "0.763 2.278947368421053\n"
     ]
    },
    {
     "data": {
      "text/plain": [
       "2.278947368421053"
      ]
     },
     "execution_count": 111,
     "metadata": {},
     "output_type": "execute_result"
    }
   ],
   "source": [
    "# лучшее значение доли правильных ответов на кросс-валидации и соответствующее значение `C`.\n",
    "best_score_logit_c2 = sorted(logit_mean_cv_scores4, reverse=True)\n",
    "print(round(best_score_logit_c2[0][0],3),best_score_logit_c2[0][1])\n",
    "best_c = best_score_logit_c2[0][1]\n",
    "best_c"
   ]
  },
  {
   "cell_type": "code",
   "execution_count": 112,
   "metadata": {},
   "outputs": [
    {
     "data": {
      "image/png": "[encoded data removed]",
      "text/plain": [
       "<Figure size 1152x720 with 1 Axes>"
      ]
     },
     "metadata": {
      "needs_background": "light"
     },
     "output_type": "display_data"
    }
   ],
   "source": [
    "# нарисуем график зависимости доли правильных ответов на кросс-валидации от `C`.\n",
    "plt.plot(logit_c_values2, logit_mean_cv_scores3);"
   ]
  },
  {
   "cell_type": "code",
   "execution_count": 113,
   "metadata": {},
   "outputs": [
    {
     "data": {
      "text/plain": [
       "0.7826499170419531"
      ]
     },
     "execution_count": 113,
     "metadata": {},
     "output_type": "execute_result"
    }
   ],
   "source": [
    "# вычислим долю правильных ответов на выборке `(X_valid, y_valid)` для логистической регрессии\n",
    "# с лучшим найденным значением `C`\n",
    "logit_best = LogisticRegression(C=best_c, random_state=17,n_jobs=-1)\n",
    "logit_best.fit(X_train, y_train)\n",
    "logit_cv_acc = accuracy_score(y_valid, logit_best.predict(X_valid))\n",
    "logit_cv_acc"
   ]
  },
  {
   "cell_type": "code",
   "execution_count": 114,
   "metadata": {},
   "outputs": [
    {
     "data": {
      "text/plain": [
       "0.7631589739396327"
      ]
     },
     "execution_count": 114,
     "metadata": {},
     "output_type": "execute_result"
    }
   ],
   "source": [
    "# посчитаем доли правильных ответов для `logit_grid_searcher2` на кросс-валидации для лучшего \n",
    "# значения параметра `C` и на отложенной выборке.\n",
    "logit_best_cros_val = LogisticRegression(C=best_c, random_state=17,n_jobs=-1)\n",
    "logit_cv_cross_val_score = cross_val_score(logit_best_cros_val, X_train, y_train, cv=skf).mean()\n",
    "logit_cv_cross_val_score"
   ]
  },
  {
   "cell_type": "markdown",
   "metadata": {},
   "source": [
    "Обучим линейный SVM (`LinearSVC`) с параметром `C`=1 и `random_state`=17 (для воспроизводимости). Посмотрим на долю правильных ответов на кросс-валидации и на выборке `(X_valid, y_valid)`.**"
   ]
  },
  {
   "cell_type": "code",
   "execution_count": 115,
   "metadata": {},
   "outputs": [
    {
     "data": {
      "text/plain": [
       "0.7101207368292993"
      ]
     },
     "execution_count": 115,
     "metadata": {},
     "output_type": "execute_result"
    }
   ],
   "source": [
    "from sklearn.svm import LinearSVC\n",
    "svm = LinearSVC(C=1, random_state=17)\n",
    "score_linear = cross_val_score(svm, X_valid, y_valid, cv=skf).mean()\n",
    "score_linear"
   ]
  },
  {
   "cell_type": "markdown",
   "metadata": {},
   "source": [
    "С помощью `GridSearchCV` подберем параметр `C` для SVM сначала в широком диапазоне: 10 значений от 1e-4 до 1e4. Нарисуем кривые валидации."
   ]
  },
  {
   "cell_type": "code",
   "execution_count": 116,
   "metadata": {},
   "outputs": [
    {
     "data": {
      "text/plain": [
       "0.6952843773612952"
      ]
     },
     "execution_count": 116,
     "metadata": {},
     "output_type": "execute_result"
    }
   ],
   "source": [
    "svm_params1 = {'C': np.linspace(1e-4, 1e4, 10)}\n",
    "svm_grid_searcher1 = GridSearchCV(svm, param_grid=svm_params1, return_train_score=True)\n",
    "svm_grid_searcher1.fit(X_train, y_train)\n",
    "svm_grid_searcher1.best_score_"
   ]
  },
  {
   "cell_type": "code",
   "execution_count": 117,
   "metadata": {},
   "outputs": [
    {
     "data": {
      "image/png": "[encoded data removed]",
      "text/plain": [
       "<Figure size 1152x720 with 1 Axes>"
      ]
     },
     "metadata": {
      "needs_background": "light"
     },
     "output_type": "display_data"
    }
   ],
   "source": [
    "plot_validation_curves(svm_params1['C'], svm_grid_searcher1.cv_results_)"
   ]
  },
  {
   "cell_type": "markdown",
   "metadata": {},
   "source": [
    "Но мы помним, что с параметром регуляризации по умолчанию (С=1) на кросс-валидации доля правильных ответов выше. Это тот случай (не редкий), когда можно ошибиться и перебирать параметры не в том диапазоне (причина в том, что мы взяли равномерную сетку на большом интервале и упустили действительно хороший интервал значений `C`). Здесь намного осмысленней подбирать `C` в районе 1, к тому же, так модель быстрее обучается, чем при больших `C`.\n",
    "\n",
    "С помощью `GridSearchCV` подберем параметр `C` для SVM в диапазоне (1e-3, 1), 30 значений. Нарисуем кривые валидации.**"
   ]
  },
  {
   "cell_type": "code",
   "execution_count": 118,
   "metadata": {},
   "outputs": [
    {
     "data": {
      "text/plain": [
       "GridSearchCV(estimator=LinearSVC(C=1, random_state=17),\n",
       "             param_grid={'C': array([0.001     , 0.03544828, 0.06989655, 0.10434483, 0.1387931 ,\n",
       "       0.17324138, 0.20768966, 0.24213793, 0.27658621, 0.31103448,\n",
       "       0.34548276, 0.37993103, 0.41437931, 0.44882759, 0.48327586,\n",
       "       0.51772414, 0.55217241, 0.58662069, 0.62106897, 0.65551724,\n",
       "       0.68996552, 0.72441379, 0.75886207, 0.79331034, 0.82775862,\n",
       "       0.8622069 , 0.89665517, 0.93110345, 0.96555172, 1.        ])},\n",
       "             return_train_score=True)"
      ]
     },
     "execution_count": 118,
     "metadata": {},
     "output_type": "execute_result"
    }
   ],
   "source": [
    "svm_params2 = {'C': np.linspace(1e-3, 1, 30)}\n",
    "svm_grid_searcher2 = GridSearchCV(svm, param_grid=svm_params2, return_train_score=True)\n",
    "svm_grid_searcher2.fit(X_train, y_train)"
   ]
  },
  {
   "cell_type": "code",
   "execution_count": 119,
   "metadata": {},
   "outputs": [
    {
     "name": "stdout",
     "output_type": "stream",
     "text": [
      "0.7701686093803548 {'C': 0.10434482758620689}\n"
     ]
    },
    {
     "data": {
      "text/plain": [
       "0.10434482758620689"
      ]
     },
     "execution_count": 119,
     "metadata": {},
     "output_type": "execute_result"
    }
   ],
   "source": [
    "# лучшее значение доли правильных ответов на кросс-валидации и соответствующее значение `C`\n",
    "print(svm_grid_searcher2.best_score_, svm_grid_searcher2.best_params_)\n",
    "best_c_svm = svm_grid_searcher2.best_params_['C']\n",
    "best_c_svm"
   ]
  },
  {
   "cell_type": "code",
   "execution_count": 120,
   "metadata": {},
   "outputs": [
    {
     "data": {
      "image/png": "[encoded data removed]",
      "text/plain": [
       "<Figure size 1152x720 with 1 Axes>"
      ]
     },
     "metadata": {
      "needs_background": "light"
     },
     "output_type": "display_data"
    }
   ],
   "source": [
    "# график зависимости доли правильных ответов на кросс-валидации от С\n",
    "plot_validation_curves(svm_params2['C'], svm_grid_searcher2.cv_results_)"
   ]
  },
  {
   "cell_type": "code",
   "execution_count": 121,
   "metadata": {},
   "outputs": [
    {
     "data": {
      "text/plain": [
       "0.781"
      ]
     },
     "execution_count": 121,
     "metadata": {},
     "output_type": "execute_result"
    }
   ],
   "source": [
    "# доля правильных ответов на выборке `(X_valid, y_valid)` для `LinearSVC` с лучшим найденным \n",
    "# значением `C\n",
    "svm_best_c1 = LinearSVC(C=best_c_svm, random_state=17)\n",
    "svm_best_c1.fit(X_train, y_train)\n",
    "svm_cv_acc = accuracy_score(y_valid, svm_best_c1.predict(X_valid))\n",
    "round(svm_cv_acc,3)"
   ]
  },
  {
   "cell_type": "code",
   "execution_count": 122,
   "metadata": {},
   "outputs": [
    {
     "data": {
      "text/plain": [
       "0.767"
      ]
     },
     "execution_count": 122,
     "metadata": {},
     "output_type": "execute_result"
    }
   ],
   "source": [
    "# Посчитаем доли правильных ответов для `svm_grid_searcher2` на кросс-валидации для лучшего значения\n",
    "# параметра `C` и на отложенной выборке.\n",
    "svm_best_c2 = LinearSVC(C=best_c_svm, random_state=17)\n",
    "svm_cv_acc2 = cross_val_score(svm_best_c2, X_train, y_train, cv=skf).mean()\n",
    "round(svm_cv_acc2,3)"
   ]
  },
  {
   "cell_type": "markdown",
   "metadata": {},
   "source": [
    "## Выбор параметров – длины сессии и ширины окна"
   ]
  },
  {
   "cell_type": "markdown",
   "metadata": {},
   "source": [
    "Возьмем `LinearSVC`, показавший лучшее качество на кросс-валидации в 1 части, и проверим его работу еще на 8 выборках для 10 пользователей (с разными сочетаниями параметров *session_length* и *window_size*). Поскольку тут уже вычислений побольше, мы не будем каждый раз заново подбирать параметр регуляризации `C`."
   ]
  },
  {
   "cell_type": "code",
   "execution_count": 123,
   "metadata": {},
   "outputs": [],
   "source": [
    "def model_assessment(estimator, path_to_X_pickle, path_to_y_pickle, cv, random_state=17, test_size=0.3):\n",
    "    '''\n",
    "    Estimates CV-accuracy for (1 - test_size) share of (X_sparse, y) \n",
    "    loaded from path_to_X_pickle and path_to_y_pickle and holdout accuracy for (test_size) share of (X_sparse, y).\n",
    "    The split is made with stratified train_test_split with params random_state and test_size.\n",
    "    \n",
    "    :param estimator – Scikit-learn estimator (classifier or regressor)\n",
    "    :param path_to_X_pickle – path to pickled sparse X (instances and their features)\n",
    "    :param path_to_y_pickle – path to pickled y (responses)\n",
    "    :param cv – cross-validation as in cross_val_score (use StratifiedKFold here)\n",
    "    :param random_state –  for train_test_split\n",
    "    :param test_size –  for train_test_split\n",
    "    \n",
    "    :returns mean CV-accuracy for (X_train, y_train) and accuracy for (X_valid, y_valid) where (X_train, y_train)\n",
    "    and (X_valid, y_valid) are (1 - test_size) and (testsize) shares of (X_sparse, y).\n",
    "    '''\n",
    "    \n",
    "    with open(path_to_X_pickle, 'rb') as X_sparse_10users_pkl:\n",
    "        X_sparse_10users = pickle.load(X_sparse_10users_pkl)\n",
    "    with open(path_to_y_pickle, 'rb') as y_10users_pkl:\n",
    "        y_10users = pickle.load(y_10users_pkl)\n",
    "        \n",
    "    X_train, X_valid, y_train, y_valid = train_test_split(X_sparse_10users, y_10users, \n",
    "                                                      test_size=test_size, \n",
    "                                                     random_state=random_state, stratify=y_10users)\n",
    "    y_train = y_train.astype('int')\n",
    "    y_valid = y_valid.astype('int')\n",
    "    \n",
    "    cross_val_score1 = cross_val_score(estimator, X_train, y_train, cv=cv).mean()\n",
    "    \n",
    "    estimator.fit(X_train, y_train)\n",
    "    acc_score2 = accuracy_score(y_valid, estimator.predict(X_valid))\n",
    "    \n",
    "    return cross_val_score1, acc_score2"
   ]
  },
  {
   "cell_type": "code",
   "execution_count": 124,
   "metadata": {},
   "outputs": [
    {
     "name": "stdout",
     "output_type": "stream",
     "text": [
      "session_length = 15 window_size = 10 result: (0.8243252292702751, 0.8404835269021095)\n",
      "session_length = 10 window_size = 10 result: (0.7670206386611259, 0.7807537331121118)\n",
      "session_length = 15 window_size = 7 result: (0.8495024256089474, 0.8543222166915547)\n",
      "session_length = 10 window_size = 7 result: (0.7983645917156946, 0.8073668491786958)\n",
      "session_length = 7 window_size = 7 result: (0.754765400423003, 0.7617388418782147)\n",
      "session_length = 15 window_size = 5 result: (0.8670355547005402, 0.8752963489805595)\n",
      "session_length = 10 window_size = 5 result: (0.8177520250854086, 0.8245614035087719)\n",
      "session_length = 7 window_size = 5 result: (0.772939529035208, 0.7853247984826932)\n",
      "session_length = 5 window_size = 5 result: (0.7254849424351582, 0.7362494073020389)\n",
      "Wall time: 16 s\n"
     ]
    }
   ],
   "source": [
    "%%time\n",
    "estimator = svm_grid_searcher2.best_estimator_\n",
    "\n",
    "for window_size, session_length in itertools.product([10, 7, 5], [15, 10, 7, 5]):\n",
    "    if window_size <= session_length:\n",
    "        path_to_X_pkl = os.path.join(PATH_TO_DATA, \n",
    "                       'X_sparse_10users_s{}_w{}.pkl'.format(session_length,window_size))\n",
    "        path_to_y_pkl = os.path.join(PATH_TO_DATA, \n",
    "                       'y_10users_s{}_w{}.pkl'.format(session_length,window_size))\n",
    "        \n",
    "        result = model_assessment(estimator, path_to_X_pkl, path_to_y_pkl, skf, random_state=17, test_size=0.3)                             \n",
    "                                     \n",
    "        print('session_length =', session_length, 'window_size =', window_size, 'result:', result)"
   ]
  },
  {
   "cell_type": "markdown",
   "metadata": {},
   "source": [
    "## Идентификация  конкретного пользователя и кривые обучения"
   ]
  },
  {
   "cell_type": "markdown",
   "metadata": {},
   "source": [
    "Загрузим сериализованные ранее объекты *X_sparse_150users* и *y_150users*, соответствующие обучающей выборке для 150 пользователей с параметрами (*session_length, window_size*) = (10,10). Так же точно разобьем их на 70% и 30%."
   ]
  },
  {
   "cell_type": "code",
   "execution_count": 125,
   "metadata": {},
   "outputs": [],
   "source": [
    "with open(os.path.join(PATH_TO_DATA, 'X_sparse_150users.pkl'), 'rb') as X_sparse_150users_pkl:\n",
    "     X_sparse_150users = pickle.load(X_sparse_150users_pkl)\n",
    "with open(os.path.join(PATH_TO_DATA, 'y_150users.pkl'), 'rb') as y_150users_pkl:\n",
    "    y_150users = pickle.load(y_150users_pkl)"
   ]
  },
  {
   "cell_type": "code",
   "execution_count": 126,
   "metadata": {},
   "outputs": [],
   "source": [
    "X_train_150, X_valid_150, y_train_150, y_valid_150 = train_test_split(X_sparse_150users, \n",
    "                                                                      y_150users, test_size=0.3, \n",
    "                                                     random_state=17, stratify=y_150users)\n",
    "y_train_150 = y_train_150.astype('int')\n",
    "y_valid_150 = y_valid_150.astype('int')"
   ]
  },
  {
   "cell_type": "markdown",
   "metadata": {},
   "source": [
    "Дальше будем строить кривые обучения для конкретного пользователя, допустим, для 128-го. Составим новый бинарный вектор на основе *y_150users*, его значения будут 1 или 0 в зависимости от того, равен ли ID-шник пользователя 128."
   ]
  },
  {
   "cell_type": "code",
   "execution_count": 131,
   "metadata": {},
   "outputs": [],
   "source": [
    "y_binary_128 = []\n",
    "for i in range(y_150users.shape[0]):\n",
    "    if y_150users[i] != 29:\n",
    "        y_binary_128.append(0)\n",
    "    else: \n",
    "        y_binary_128.append(1)\n",
    "        \n",
    "y_binary_128 = np.array(y_binary_128)"
   ]
  },
  {
   "cell_type": "code",
   "execution_count": 132,
   "metadata": {},
   "outputs": [],
   "source": [
    "from sklearn.model_selection import learning_curve\n",
    "\n",
    "def plot_learning_curve(val_train, val_test, train_sizes, \n",
    "                        xlabel='Training Set Size', ylabel='score'):\n",
    "    def plot_with_err(x, data, **kwargs):\n",
    "        mu, std = data.mean(1), data.std(1)\n",
    "        lines = plt.plot(x, mu, '-', **kwargs)\n",
    "        plt.fill_between(x, mu - std, mu + std, edgecolor='none',\n",
    "                         facecolor=lines[0].get_color(), alpha=0.2)\n",
    "    plot_with_err(train_sizes, val_train, label='train')\n",
    "    plot_with_err(train_sizes, val_test, label='valid')\n",
    "    plt.xlabel(xlabel); plt.ylabel(ylabel)\n",
    "    plt.legend(loc='lower right');"
   ]
  },
  {
   "cell_type": "markdown",
   "metadata": {},
   "source": [
    "Посчитаем доли правильных ответов на кросс-валидации в задаче классификации \"user128-vs-All\" в зависимости от размера выборки. Не помешает посмотреть встроенную документацию для *learning_curve*.**"
   ]
  },
  {
   "cell_type": "code",
   "execution_count": 133,
   "metadata": {},
   "outputs": [],
   "source": [
    "train_sizes = np.linspace(0.25, 1, 20)\n",
    "estimator = svm_grid_searcher2.best_estimator_\n",
    "n_train, val_train, val_test = learning_curve(estimator, X_train_150, y_train_150, train_sizes=train_sizes, cv=skf, n_jobs=-1)"
   ]
  },
  {
   "cell_type": "code",
   "execution_count": 134,
   "metadata": {},
   "outputs": [
    {
     "data": {
      "image/png": "[encoded data removed]",
      "text/plain": [
       "<Figure size 1152x720 with 1 Axes>"
      ]
     },
     "metadata": {
      "needs_background": "light"
     },
     "output_type": "display_data"
    }
   ],
   "source": [
    "plot_learning_curve(val_train, val_test, n_train, \n",
    "                    xlabel='train_size', ylabel='accuracy')"
   ]
  },
  {
   "cell_type": "markdown",
   "metadata": {},
   "source": [
    "# <center>4. Соревнование Kaggle \"Catch Me If You Can\""
   ]
  },
  {
   "cell_type": "markdown",
   "metadata": {},
   "source": [
    "Считаем данные [соревнования](https://inclass.kaggle.com/c/catch-me-if-you-can-intruder-detection-through-webpage-session-tracking2) в DataFrame train_df и test_df (обучающая и тестовая выборки)."
   ]
  },
  {
   "cell_type": "code",
   "execution_count": 135,
   "metadata": {},
   "outputs": [],
   "source": [
    "train_df = pd.read_csv(os.path.join(PATH_TO_DATA, 'train_sessions.csv'),\n",
    "                       index_col='session_id')\n",
    "test_df = pd.read_csv(os.path.join(PATH_TO_DATA, 'test_sessions.csv'),\n",
    "                      index_col='session_id')"
   ]
  },
  {
   "cell_type": "code",
   "execution_count": 136,
   "metadata": {},
   "outputs": [],
   "source": [
    "# Объединим обучающую и тестовую выборки – это понадобится, чтоб вместе потом привести их\n",
    "# к разреженному формату.\n",
    "train_test_df = pd.concat([train_df, test_df])"
   ]
  },
  {
   "cell_type": "markdown",
   "metadata": {},
   "source": [
    "В обучающей выборке видим следующие признаки:\n",
    "    - site1 – индекс первого посещенного сайта в сессии\n",
    "    - time1 – время посещения первого сайта в сессии\n",
    "    - ...\n",
    "    - site10 – индекс 10-го посещенного сайта в сессии\n",
    "    - time10 – время посещения 10-го сайта в сессии\n",
    "    - user_id – ID пользователя\n",
    "    \n",
    "Сессии пользователей выделены таким образом, что они не могут быть длинее получаса или 10 сайтов. То есть сессия считается оконченной либо когда пользователь посетил 10 сайтов подряд, либо когда сессия заняла по времени более 30 минут. "
   ]
  },
  {
   "cell_type": "markdown",
   "metadata": {},
   "source": [
    "Пропуски возникают там, где сессии короткие (менее 10 сайтов). Скажем, если человек 1 января 2015 года посетил *vk.com* в 20:01, потом *yandex.ru* в 20:29, затем *google.com* в 20:33, то первая его сессия будет состоять только из двух сайтов (site1 – ID сайта *vk.com*, time1 – 2015-01-01 20:01:00, site2 – ID сайта  *yandex.ru*, time2 – 2015-01-01 20:29:00, остальные признаки – NaN), а начиная с *google.com* пойдет новая сессия, потому что уже прошло более 30 минут с момента посещения *vk.com*."
   ]
  },
  {
   "cell_type": "markdown",
   "metadata": {},
   "source": [
    "В обучающей выборке – 2297 сессий одного пользователя (Alice) и 251264 сессий – других пользователей, не Элис. Дисбаланс классов очень сильный, и смотреть на долю верных ответов (accuracy) непоказательно."
   ]
  },
  {
   "cell_type": "code",
   "execution_count": 140,
   "metadata": {},
   "outputs": [
    {
     "data": {
      "text/plain": [
       "0    251264\n",
       "1      2297\n",
       "Name: target, dtype: int64"
      ]
     },
     "execution_count": 140,
     "metadata": {},
     "output_type": "execute_result"
    }
   ],
   "source": [
    "train_df['target'].value_counts()"
   ]
  },
  {
   "cell_type": "markdown",
   "metadata": {},
   "source": [
    "Создадим функцию new_df, которая преобразовывает исходный dataframe в новый с дополнительными признаками, как это делалось ранее"
   ]
  },
  {
   "cell_type": "code",
   "execution_count": 141,
   "metadata": {},
   "outputs": [],
   "source": [
    "def new_df(dataframe):\n",
    "    sites = ['site' + str(i) for i in range(1, 11)]\n",
    "    new_df_train = dataframe[[site for site in sites]].fillna(0).astype('int')\n",
    "    new_df_train['time1'] = dataframe['time1']\n",
    "    new_df_train['time'] = pd.to_datetime(new_df_train['time1'])\n",
    "    del new_df_train['time1']\n",
    "    \n",
    "    new_df_train['day_of_week'] = np.nan\n",
    "    new_df_train['start_hour'] = np.nan\n",
    "    new_df_train['month'] = np.nan\n",
    "    for i in range(new_df_train.shape[0]):\n",
    "        new_df_train['day_of_week'].iloc[i] = datetime.isoweekday(new_df_train['time'].iloc[i])\n",
    "        new_df_train['start_hour'].iloc[i] = new_df_train['time'].iloc[i].hour\n",
    "        new_df_train['month'].iloc[i] = new_df_train['time'].iloc[i].month\n",
    "    new_df_train['day_of_week'] = new_df_train['day_of_week'].astype('int')\n",
    "    new_df_train['start_hour'] = new_df_train['start_hour'].astype('int')\n",
    "    new_df_train['month'] = new_df_train['month'].astype('int')\n",
    "    del new_df_train['time']\n",
    "    \n",
    "    return new_df_train"
   ]
  },
  {
   "cell_type": "code",
   "execution_count": 142,
   "metadata": {},
   "outputs": [],
   "source": [
    "def time_df(dataframe):\n",
    "    time = ['time'+str(i) for i in range(1,11)]\n",
    "    time_df = dataframe[[t for t in time]]\n",
    "    for i in range(time_df.shape[1]):\n",
    "        time_df.iloc[:,i] = pd.to_datetime(time_df.iloc[:,i])\n",
    "    time_df['delta'] = time_df.max(axis = 1) - time_df.min(axis = 1)\n",
    "    return time_df"
   ]
  },
  {
   "cell_type": "code",
   "execution_count": 143,
   "metadata": {},
   "outputs": [
    {
     "data": {
      "text/html": [
       "<div>\n",
       "<style scoped>\n",
       "    .dataframe tbody tr th:only-of-type {\n",
       "        vertical-align: middle;\n",
       "    }\n",
       "\n",
       "    .dataframe tbody tr th {\n",
       "        vertical-align: top;\n",
       "    }\n",
       "\n",
       "    .dataframe thead th {\n",
       "        text-align: right;\n",
       "    }\n",
       "</style>\n",
       "<table border=\"1\" class=\"dataframe\">\n",
       "  <thead>\n",
       "    <tr style=\"text-align: right;\">\n",
       "      <th></th>\n",
       "      <th>time1</th>\n",
       "      <th>time2</th>\n",
       "      <th>time3</th>\n",
       "      <th>time4</th>\n",
       "      <th>time5</th>\n",
       "      <th>time6</th>\n",
       "      <th>time7</th>\n",
       "      <th>time8</th>\n",
       "      <th>time9</th>\n",
       "      <th>time10</th>\n",
       "      <th>delta</th>\n",
       "    </tr>\n",
       "    <tr>\n",
       "      <th>session_id</th>\n",
       "      <th></th>\n",
       "      <th></th>\n",
       "      <th></th>\n",
       "      <th></th>\n",
       "      <th></th>\n",
       "      <th></th>\n",
       "      <th></th>\n",
       "      <th></th>\n",
       "      <th></th>\n",
       "      <th></th>\n",
       "      <th></th>\n",
       "    </tr>\n",
       "  </thead>\n",
       "  <tbody>\n",
       "    <tr>\n",
       "      <th>1</th>\n",
       "      <td>2014-02-20 10:02:45</td>\n",
       "      <td>NaT</td>\n",
       "      <td>NaT</td>\n",
       "      <td>NaT</td>\n",
       "      <td>NaT</td>\n",
       "      <td>NaT</td>\n",
       "      <td>NaT</td>\n",
       "      <td>NaT</td>\n",
       "      <td>NaT</td>\n",
       "      <td>NaT</td>\n",
       "      <td>00:00:00</td>\n",
       "    </tr>\n",
       "    <tr>\n",
       "      <th>2</th>\n",
       "      <td>2014-02-22 11:19:50</td>\n",
       "      <td>2014-02-22 11:19:50</td>\n",
       "      <td>2014-02-22 11:19:51</td>\n",
       "      <td>2014-02-22 11:19:51</td>\n",
       "      <td>2014-02-22 11:19:51</td>\n",
       "      <td>2014-02-22 11:19:51</td>\n",
       "      <td>2014-02-22 11:19:52</td>\n",
       "      <td>2014-02-22 11:19:52</td>\n",
       "      <td>2014-02-22 11:20:15</td>\n",
       "      <td>2014-02-22 11:20:16</td>\n",
       "      <td>00:00:26</td>\n",
       "    </tr>\n",
       "    <tr>\n",
       "      <th>3</th>\n",
       "      <td>2013-12-16 16:40:17</td>\n",
       "      <td>2013-12-16 16:40:18</td>\n",
       "      <td>2013-12-16 16:40:19</td>\n",
       "      <td>2013-12-16 16:40:19</td>\n",
       "      <td>2013-12-16 16:40:19</td>\n",
       "      <td>2013-12-16 16:40:19</td>\n",
       "      <td>2013-12-16 16:40:20</td>\n",
       "      <td>2013-12-16 16:40:21</td>\n",
       "      <td>2013-12-16 16:40:22</td>\n",
       "      <td>2013-12-16 16:40:24</td>\n",
       "      <td>00:00:07</td>\n",
       "    </tr>\n",
       "  </tbody>\n",
       "</table>\n",
       "</div>"
      ],
      "text/plain": [
       "                         time1               time2               time3  \\\n",
       "session_id                                                               \n",
       "1          2014-02-20 10:02:45                 NaT                 NaT   \n",
       "2          2014-02-22 11:19:50 2014-02-22 11:19:50 2014-02-22 11:19:51   \n",
       "3          2013-12-16 16:40:17 2013-12-16 16:40:18 2013-12-16 16:40:19   \n",
       "\n",
       "                         time4               time5               time6  \\\n",
       "session_id                                                               \n",
       "1                          NaT                 NaT                 NaT   \n",
       "2          2014-02-22 11:19:51 2014-02-22 11:19:51 2014-02-22 11:19:51   \n",
       "3          2013-12-16 16:40:19 2013-12-16 16:40:19 2013-12-16 16:40:19   \n",
       "\n",
       "                         time7               time8               time9  \\\n",
       "session_id                                                               \n",
       "1                          NaT                 NaT                 NaT   \n",
       "2          2014-02-22 11:19:52 2014-02-22 11:19:52 2014-02-22 11:20:15   \n",
       "3          2013-12-16 16:40:20 2013-12-16 16:40:21 2013-12-16 16:40:22   \n",
       "\n",
       "                        time10    delta  \n",
       "session_id                               \n",
       "1                          NaT 00:00:00  \n",
       "2          2014-02-22 11:20:16 00:00:26  \n",
       "3          2013-12-16 16:40:24 00:00:07  "
      ]
     },
     "execution_count": 143,
     "metadata": {},
     "output_type": "execute_result"
    }
   ],
   "source": [
    "time_train = time_df(train_df)\n",
    "time_train.head(3)"
   ]
  },
  {
   "cell_type": "code",
   "execution_count": 144,
   "metadata": {},
   "outputs": [
    {
     "data": {
      "text/html": [
       "<div>\n",
       "<style scoped>\n",
       "    .dataframe tbody tr th:only-of-type {\n",
       "        vertical-align: middle;\n",
       "    }\n",
       "\n",
       "    .dataframe tbody tr th {\n",
       "        vertical-align: top;\n",
       "    }\n",
       "\n",
       "    .dataframe thead th {\n",
       "        text-align: right;\n",
       "    }\n",
       "</style>\n",
       "<table border=\"1\" class=\"dataframe\">\n",
       "  <thead>\n",
       "    <tr style=\"text-align: right;\">\n",
       "      <th></th>\n",
       "      <th>time1</th>\n",
       "      <th>time2</th>\n",
       "      <th>time3</th>\n",
       "      <th>time4</th>\n",
       "      <th>time5</th>\n",
       "      <th>time6</th>\n",
       "      <th>time7</th>\n",
       "      <th>time8</th>\n",
       "      <th>time9</th>\n",
       "      <th>time10</th>\n",
       "      <th>delta</th>\n",
       "    </tr>\n",
       "    <tr>\n",
       "      <th>session_id</th>\n",
       "      <th></th>\n",
       "      <th></th>\n",
       "      <th></th>\n",
       "      <th></th>\n",
       "      <th></th>\n",
       "      <th></th>\n",
       "      <th></th>\n",
       "      <th></th>\n",
       "      <th></th>\n",
       "      <th></th>\n",
       "      <th></th>\n",
       "    </tr>\n",
       "  </thead>\n",
       "  <tbody>\n",
       "    <tr>\n",
       "      <th>1</th>\n",
       "      <td>2014-10-04 11:19:53</td>\n",
       "      <td>2014-10-04 11:19:53</td>\n",
       "      <td>2014-10-04 11:19:54</td>\n",
       "      <td>2014-10-04 11:19:54</td>\n",
       "      <td>2014-10-04 11:19:54</td>\n",
       "      <td>2014-10-04 11:19:54</td>\n",
       "      <td>2014-10-04 11:19:54</td>\n",
       "      <td>2014-10-04 11:19:54</td>\n",
       "      <td>2014-10-04 11:20:00</td>\n",
       "      <td>2014-10-04 11:20:00</td>\n",
       "      <td>00:00:07</td>\n",
       "    </tr>\n",
       "    <tr>\n",
       "      <th>2</th>\n",
       "      <td>2014-07-03 11:00:28</td>\n",
       "      <td>2014-07-03 11:00:53</td>\n",
       "      <td>2014-07-03 11:00:58</td>\n",
       "      <td>2014-07-03 11:01:06</td>\n",
       "      <td>2014-07-03 11:01:09</td>\n",
       "      <td>2014-07-03 11:01:10</td>\n",
       "      <td>2014-07-03 11:01:23</td>\n",
       "      <td>2014-07-03 11:01:29</td>\n",
       "      <td>2014-07-03 11:01:30</td>\n",
       "      <td>2014-07-03 11:01:53</td>\n",
       "      <td>00:01:25</td>\n",
       "    </tr>\n",
       "    <tr>\n",
       "      <th>3</th>\n",
       "      <td>2014-12-05 15:55:12</td>\n",
       "      <td>2014-12-05 15:55:13</td>\n",
       "      <td>2014-12-05 15:55:14</td>\n",
       "      <td>2014-12-05 15:56:15</td>\n",
       "      <td>2014-12-05 15:56:16</td>\n",
       "      <td>2014-12-05 15:56:17</td>\n",
       "      <td>2014-12-05 15:56:18</td>\n",
       "      <td>2014-12-05 15:56:19</td>\n",
       "      <td>2014-12-05 15:56:33</td>\n",
       "      <td>2014-12-05 15:56:36</td>\n",
       "      <td>00:01:24</td>\n",
       "    </tr>\n",
       "  </tbody>\n",
       "</table>\n",
       "</div>"
      ],
      "text/plain": [
       "                         time1               time2               time3  \\\n",
       "session_id                                                               \n",
       "1          2014-10-04 11:19:53 2014-10-04 11:19:53 2014-10-04 11:19:54   \n",
       "2          2014-07-03 11:00:28 2014-07-03 11:00:53 2014-07-03 11:00:58   \n",
       "3          2014-12-05 15:55:12 2014-12-05 15:55:13 2014-12-05 15:55:14   \n",
       "\n",
       "                         time4               time5               time6  \\\n",
       "session_id                                                               \n",
       "1          2014-10-04 11:19:54 2014-10-04 11:19:54 2014-10-04 11:19:54   \n",
       "2          2014-07-03 11:01:06 2014-07-03 11:01:09 2014-07-03 11:01:10   \n",
       "3          2014-12-05 15:56:15 2014-12-05 15:56:16 2014-12-05 15:56:17   \n",
       "\n",
       "                         time7               time8               time9  \\\n",
       "session_id                                                               \n",
       "1          2014-10-04 11:19:54 2014-10-04 11:19:54 2014-10-04 11:20:00   \n",
       "2          2014-07-03 11:01:23 2014-07-03 11:01:29 2014-07-03 11:01:30   \n",
       "3          2014-12-05 15:56:18 2014-12-05 15:56:19 2014-12-05 15:56:33   \n",
       "\n",
       "                        time10    delta  \n",
       "session_id                               \n",
       "1          2014-10-04 11:20:00 00:00:07  \n",
       "2          2014-07-03 11:01:53 00:01:25  \n",
       "3          2014-12-05 15:56:36 00:01:24  "
      ]
     },
     "execution_count": 144,
     "metadata": {},
     "output_type": "execute_result"
    }
   ],
   "source": [
    "time_test = time_df(test_df)\n",
    "time_test.head(3)"
   ]
  },
  {
   "cell_type": "code",
   "execution_count": 146,
   "metadata": {},
   "outputs": [
    {
     "data": {
      "text/html": [
       "<div>\n",
       "<style scoped>\n",
       "    .dataframe tbody tr th:only-of-type {\n",
       "        vertical-align: middle;\n",
       "    }\n",
       "\n",
       "    .dataframe tbody tr th {\n",
       "        vertical-align: top;\n",
       "    }\n",
       "\n",
       "    .dataframe thead th {\n",
       "        text-align: right;\n",
       "    }\n",
       "</style>\n",
       "<table border=\"1\" class=\"dataframe\">\n",
       "  <thead>\n",
       "    <tr style=\"text-align: right;\">\n",
       "      <th></th>\n",
       "      <th>site1</th>\n",
       "      <th>site2</th>\n",
       "      <th>site3</th>\n",
       "      <th>site4</th>\n",
       "      <th>site5</th>\n",
       "      <th>site6</th>\n",
       "      <th>site7</th>\n",
       "      <th>site8</th>\n",
       "      <th>site9</th>\n",
       "      <th>site10</th>\n",
       "      <th>day_of_week</th>\n",
       "      <th>start_hour</th>\n",
       "      <th>month</th>\n",
       "      <th>session_timespan</th>\n",
       "    </tr>\n",
       "    <tr>\n",
       "      <th>session_id</th>\n",
       "      <th></th>\n",
       "      <th></th>\n",
       "      <th></th>\n",
       "      <th></th>\n",
       "      <th></th>\n",
       "      <th></th>\n",
       "      <th></th>\n",
       "      <th></th>\n",
       "      <th></th>\n",
       "      <th></th>\n",
       "      <th></th>\n",
       "      <th></th>\n",
       "      <th></th>\n",
       "      <th></th>\n",
       "    </tr>\n",
       "  </thead>\n",
       "  <tbody>\n",
       "    <tr>\n",
       "      <th>1</th>\n",
       "      <td>718</td>\n",
       "      <td>0</td>\n",
       "      <td>0</td>\n",
       "      <td>0</td>\n",
       "      <td>0</td>\n",
       "      <td>0</td>\n",
       "      <td>0</td>\n",
       "      <td>0</td>\n",
       "      <td>0</td>\n",
       "      <td>0</td>\n",
       "      <td>4</td>\n",
       "      <td>10</td>\n",
       "      <td>2</td>\n",
       "      <td>0</td>\n",
       "    </tr>\n",
       "    <tr>\n",
       "      <th>2</th>\n",
       "      <td>890</td>\n",
       "      <td>941</td>\n",
       "      <td>3847</td>\n",
       "      <td>941</td>\n",
       "      <td>942</td>\n",
       "      <td>3846</td>\n",
       "      <td>3847</td>\n",
       "      <td>3846</td>\n",
       "      <td>1516</td>\n",
       "      <td>1518</td>\n",
       "      <td>6</td>\n",
       "      <td>11</td>\n",
       "      <td>2</td>\n",
       "      <td>26</td>\n",
       "    </tr>\n",
       "    <tr>\n",
       "      <th>3</th>\n",
       "      <td>14769</td>\n",
       "      <td>39</td>\n",
       "      <td>14768</td>\n",
       "      <td>14769</td>\n",
       "      <td>37</td>\n",
       "      <td>39</td>\n",
       "      <td>14768</td>\n",
       "      <td>14768</td>\n",
       "      <td>14768</td>\n",
       "      <td>14768</td>\n",
       "      <td>1</td>\n",
       "      <td>16</td>\n",
       "      <td>12</td>\n",
       "      <td>7</td>\n",
       "    </tr>\n",
       "  </tbody>\n",
       "</table>\n",
       "</div>"
      ],
      "text/plain": [
       "            site1  site2  site3  site4  site5  site6  site7  site8  site9  \\\n",
       "session_id                                                                  \n",
       "1             718      0      0      0      0      0      0      0      0   \n",
       "2             890    941   3847    941    942   3846   3847   3846   1516   \n",
       "3           14769     39  14768  14769     37     39  14768  14768  14768   \n",
       "\n",
       "            site10  day_of_week  start_hour  month  session_timespan  \n",
       "session_id                                                            \n",
       "1                0            4          10      2                 0  \n",
       "2             1518            6          11      2                26  \n",
       "3            14768            1          16     12                 7  "
      ]
     },
     "execution_count": 146,
     "metadata": {},
     "output_type": "execute_result"
    }
   ],
   "source": [
    "from datetime import datetime\n",
    "df_tr = new_df(train_df)\n",
    "df_tr['session_timespan'] = time_train['delta'].dt.total_seconds().astype('int')\n",
    "df_tr.head(3)"
   ]
  },
  {
   "cell_type": "code",
   "execution_count": 147,
   "metadata": {},
   "outputs": [
    {
     "data": {
      "text/html": [
       "<div>\n",
       "<style scoped>\n",
       "    .dataframe tbody tr th:only-of-type {\n",
       "        vertical-align: middle;\n",
       "    }\n",
       "\n",
       "    .dataframe tbody tr th {\n",
       "        vertical-align: top;\n",
       "    }\n",
       "\n",
       "    .dataframe thead th {\n",
       "        text-align: right;\n",
       "    }\n",
       "</style>\n",
       "<table border=\"1\" class=\"dataframe\">\n",
       "  <thead>\n",
       "    <tr style=\"text-align: right;\">\n",
       "      <th></th>\n",
       "      <th>site1</th>\n",
       "      <th>site2</th>\n",
       "      <th>site3</th>\n",
       "      <th>site4</th>\n",
       "      <th>site5</th>\n",
       "      <th>site6</th>\n",
       "      <th>site7</th>\n",
       "      <th>site8</th>\n",
       "      <th>site9</th>\n",
       "      <th>site10</th>\n",
       "      <th>day_of_week</th>\n",
       "      <th>start_hour</th>\n",
       "      <th>month</th>\n",
       "      <th>session_timespan</th>\n",
       "    </tr>\n",
       "    <tr>\n",
       "      <th>session_id</th>\n",
       "      <th></th>\n",
       "      <th></th>\n",
       "      <th></th>\n",
       "      <th></th>\n",
       "      <th></th>\n",
       "      <th></th>\n",
       "      <th></th>\n",
       "      <th></th>\n",
       "      <th></th>\n",
       "      <th></th>\n",
       "      <th></th>\n",
       "      <th></th>\n",
       "      <th></th>\n",
       "      <th></th>\n",
       "    </tr>\n",
       "  </thead>\n",
       "  <tbody>\n",
       "    <tr>\n",
       "      <th>1</th>\n",
       "      <td>29</td>\n",
       "      <td>35</td>\n",
       "      <td>22</td>\n",
       "      <td>321</td>\n",
       "      <td>23</td>\n",
       "      <td>2211</td>\n",
       "      <td>6730</td>\n",
       "      <td>21</td>\n",
       "      <td>44582</td>\n",
       "      <td>15336</td>\n",
       "      <td>6</td>\n",
       "      <td>11</td>\n",
       "      <td>10</td>\n",
       "      <td>7</td>\n",
       "    </tr>\n",
       "    <tr>\n",
       "      <th>2</th>\n",
       "      <td>782</td>\n",
       "      <td>782</td>\n",
       "      <td>782</td>\n",
       "      <td>782</td>\n",
       "      <td>782</td>\n",
       "      <td>782</td>\n",
       "      <td>782</td>\n",
       "      <td>782</td>\n",
       "      <td>782</td>\n",
       "      <td>782</td>\n",
       "      <td>4</td>\n",
       "      <td>11</td>\n",
       "      <td>7</td>\n",
       "      <td>85</td>\n",
       "    </tr>\n",
       "    <tr>\n",
       "      <th>3</th>\n",
       "      <td>55</td>\n",
       "      <td>55</td>\n",
       "      <td>55</td>\n",
       "      <td>55</td>\n",
       "      <td>55</td>\n",
       "      <td>55</td>\n",
       "      <td>55</td>\n",
       "      <td>55</td>\n",
       "      <td>1445</td>\n",
       "      <td>1445</td>\n",
       "      <td>5</td>\n",
       "      <td>15</td>\n",
       "      <td>12</td>\n",
       "      <td>84</td>\n",
       "    </tr>\n",
       "  </tbody>\n",
       "</table>\n",
       "</div>"
      ],
      "text/plain": [
       "            site1  site2  site3  site4  site5  site6  site7  site8  site9  \\\n",
       "session_id                                                                  \n",
       "1              29     35     22    321     23   2211   6730     21  44582   \n",
       "2             782    782    782    782    782    782    782    782    782   \n",
       "3              55     55     55     55     55     55     55     55   1445   \n",
       "\n",
       "            site10  day_of_week  start_hour  month  session_timespan  \n",
       "session_id                                                            \n",
       "1            15336            6          11     10                 7  \n",
       "2              782            4          11      7                85  \n",
       "3             1445            5          15     12                84  "
      ]
     },
     "execution_count": 147,
     "metadata": {},
     "output_type": "execute_result"
    }
   ],
   "source": [
    "df_test = new_df(test_df)\n",
    "df_test['session_timespan'] = time_test['delta'].dt.total_seconds().astype('int')\n",
    "df_test.head(3)"
   ]
  },
  {
   "cell_type": "code",
   "execution_count": 150,
   "metadata": {},
   "outputs": [
    {
     "data": {
      "text/plain": [
       "(336358, 14)"
      ]
     },
     "execution_count": 150,
     "metadata": {},
     "output_type": "execute_result"
    }
   ],
   "source": [
    "df_tr_test = pd.concat([df_tr, df_test])\n",
    "df_tr_test.shape"
   ]
  },
  {
   "cell_type": "code",
   "execution_count": 151,
   "metadata": {},
   "outputs": [],
   "source": [
    "# создадим разреженные матрицы *X_train_sparse* и *X_test_sparse* аналогично тому, как мы это делали ранее.\n",
    "train_test_sparse1 = sparse(df_tr_test.values)\n",
    "test_size1 = len(df_test)/(len(train_df)+len(df_test))\n",
    "X_train_sp, X_test_sp = train_test_split(train_test_sparse1, test_size=test_size1, shuffle=False)\n",
    "y = train_df['target']"
   ]
  },
  {
   "cell_type": "markdown",
   "metadata": {},
   "source": [
    "Разобьем обучающую выборку на 2 части в пропорции 7/3, причем не перемешивая. Исходные данные упорядочены по времени, тестовая выборка по времени четко отделена от обучающей, это же соблюдем и здесь."
   ]
  },
  {
   "cell_type": "code",
   "execution_count": 152,
   "metadata": {},
   "outputs": [],
   "source": [
    "train_share1 = int(.7 * X_train_sp.shape[0])\n",
    "X_train1, y_train1 = X_train_sp[:train_share1, :], y[:train_share1]\n",
    "X_valid1, y_valid1  = X_train_sp[train_share1:, :], y[train_share1:]"
   ]
  },
  {
   "cell_type": "markdown",
   "metadata": {},
   "source": [
    "Создадим объект `sklearn.linear_model.LogisticRegression`. Параметры по умолчанию."
   ]
  },
  {
   "cell_type": "code",
   "execution_count": 153,
   "metadata": {},
   "outputs": [],
   "source": [
    "logit = LogisticRegression(random_state=17,n_jobs=-1)"
   ]
  },
  {
   "cell_type": "markdown",
   "metadata": {},
   "source": [
    "С помощью `RandomizedSearchCV` подберем параметр `C` для `LogisticRegression` в широком диапазоне: np.linspace(0.1, 10, 30). "
   ]
  },
  {
   "cell_type": "code",
   "execution_count": 154,
   "metadata": {},
   "outputs": [],
   "source": [
    "from sklearn.model_selection import RandomizedSearchCV\n",
    "c_values1 = np.linspace(0.1, 10, 30)\n",
    "random_search = RandomizedSearchCV(estimator = logit, param_distributions={'C':c_values1}, \n",
    "                                   scoring = 'roc_auc', n_jobs=-1, cv=5, verbose=1)"
   ]
  },
  {
   "cell_type": "code",
   "execution_count": 155,
   "metadata": {},
   "outputs": [
    {
     "name": "stdout",
     "output_type": "stream",
     "text": [
      "Fitting 5 folds for each of 10 candidates, totalling 50 fits\n"
     ]
    },
    {
     "data": {
      "text/plain": [
       "RandomizedSearchCV(cv=5,\n",
       "                   estimator=LogisticRegression(n_jobs=-1, random_state=17),\n",
       "                   n_jobs=-1,\n",
       "                   param_distributions={'C': array([ 0.1       ,  0.44137931,  0.78275862,  1.12413793,  1.46551724,\n",
       "        1.80689655,  2.14827586,  2.48965517,  2.83103448,  3.17241379,\n",
       "        3.5137931 ,  3.85517241,  4.19655172,  4.53793103,  4.87931034,\n",
       "        5.22068966,  5.56206897,  5.90344828,  6.24482759,  6.5862069 ,\n",
       "        6.92758621,  7.26896552,  7.61034483,  7.95172414,  8.29310345,\n",
       "        8.63448276,  8.97586207,  9.31724138,  9.65862069, 10.        ])},\n",
       "                   scoring='roc_auc', verbose=1)"
      ]
     },
     "execution_count": 155,
     "metadata": {},
     "output_type": "execute_result"
    }
   ],
   "source": [
    "random_search.fit(X_train1, y_train1)"
   ]
  },
  {
   "cell_type": "code",
   "execution_count": 156,
   "metadata": {},
   "outputs": [
    {
     "data": {
      "text/plain": [
       "(0.9720909194683454, {'C': 1.4655172413793105})"
      ]
     },
     "execution_count": 156,
     "metadata": {},
     "output_type": "execute_result"
    }
   ],
   "source": [
    "random_search.best_score_, random_search.best_params_"
   ]
  },
  {
   "cell_type": "markdown",
   "metadata": {},
   "source": [
    "Обучим логистическую регрессию с лучшем параметром С, найденном с помощью RandomizedSearchCV"
   ]
  },
  {
   "cell_type": "code",
   "execution_count": 157,
   "metadata": {},
   "outputs": [],
   "source": [
    "logit1 = LogisticRegression(random_state=17,n_jobs=-1, C=1.4655172413793105)\n",
    "logit1.fit(X_train_sp, y)\n",
    "logit_test_predict = logit1.predict_proba(X_test_sp)[:,1]"
   ]
  },
  {
   "cell_type": "markdown",
   "metadata": {},
   "source": [
    "Полученные ответы записываем в файл и отправляем на Kaggle"
   ]
  },
  {
   "cell_type": "code",
   "execution_count": 158,
   "metadata": {},
   "outputs": [],
   "source": [
    "def write_to_submission_file(predicted_labels, out_file,\n",
    "                             target='target', index_label=\"session_id\"):\n",
    "    # turn predictions into data frame and save as csv file\n",
    "    predicted_df = pd.DataFrame(predicted_labels,\n",
    "                                index = np.arange(1, predicted_labels.shape[0] + 1),\n",
    "                                columns=[target])\n",
    "    print(predicted_df)\n",
    "    predicted_df.to_csv(out_file, index_label=index_label)"
   ]
  },
  {
   "cell_type": "code",
   "execution_count": null,
   "metadata": {},
   "outputs": [],
   "source": [
    "write_to_submission_file(logit_test_predict, \n",
    "                         os.path.join(PATH_TO_DATA, 'logit_test_predict1.csv'))"
   ]
  },
  {
   "cell_type": "markdown",
   "metadata": {},
   "source": [
    "Получен следующий результат на соревновании \n",
    "\n",
    "best score: 0.92353\n",
    "\n",
    "Имя на leaderbord -  [YDF & MIPT] Kuzmin Sergey"
   ]
  },
  {
   "cell_type": "markdown",
   "metadata": {},
   "source": [
    "## 5. Применение Vowpal Wabbit к данным по посещению сайтов"
   ]
  },
  {
   "cell_type": "markdown",
   "metadata": {},
   "source": [
    "Далее посмотрим на Vowpal Wabbit в деле. Правда, в задаче нашего соревнования при бинарной классификации веб-сессий мы разницы не заметим – как по качеству, так и по скорости работы (хотя можете проверить), продемонстрируем всю резвость VW в задаче классификации на 400 классов. Исходные данные все те же самые, но выделено 400 пользователей, и решается задача их идентификации. Скачайте данные [отсюда](https://kaggle.com/c/catch-me-if-you-can-intruder-detection-through-webpage-session-tracking2/data) – файлы `train_sessions_400users.csv` и `test_sessions_400users.csv`."
   ]
  },
  {
   "cell_type": "markdown",
   "metadata": {},
   "source": [
    "**Загрузим обучающую и тестовую выборки. Можно заметить, что тестовые сессии здесь по времени четко отделены от сессий в обучающей выборке. **"
   ]
  },
  {
   "cell_type": "code",
   "execution_count": 162,
   "metadata": {},
   "outputs": [],
   "source": [
    "train_df_400 = pd.read_csv(os.path.join(PATH_TO_DATA,'train_sessions_400users.csv'), \n",
    "                           index_col='session_id')\n",
    "test_df_400 = pd.read_csv(os.path.join(PATH_TO_DATA,'test_sessions_400users.csv'), \n",
    "                           index_col='session_id')"
   ]
  },
  {
   "cell_type": "markdown",
   "metadata": {},
   "source": [
    "Видим, что в обучающей выборке 182793 сессий, в тестовой – 46473, и сессии действительно принадлежат 400 различным пользователям."
   ]
  },
  {
   "cell_type": "code",
   "execution_count": 164,
   "metadata": {},
   "outputs": [
    {
     "data": {
      "text/plain": [
       "((182793, 21), (46473, 20), 400)"
      ]
     },
     "execution_count": 164,
     "metadata": {},
     "output_type": "execute_result"
    }
   ],
   "source": [
    "train_df_400.shape, test_df_400.shape, train_df_400['user_id'].nunique()"
   ]
  },
  {
   "cell_type": "markdown",
   "metadata": {},
   "source": [
    "Vowpal Wabbit любит, чтоб метки классов были распределены от 1 до K, где K – число классов в задаче классификации (в нашем случае – 400). Поэтому придется применить `LabelEncoder`, да еще и +1 потом добавить (`LabelEncoder` переводит метки в диапозон от 0 до K-1). Потом надо будет применить обратное преобразование."
   ]
  },
  {
   "cell_type": "code",
   "execution_count": 165,
   "metadata": {},
   "outputs": [],
   "source": [
    "from sklearn.preprocessing import LabelEncoder\n",
    "y = train_df_400['user_id']\n",
    "class_encoder = LabelEncoder()\n",
    "y_for_vw = class_encoder.fit_transform(y) + 1"
   ]
  },
  {
   "cell_type": "markdown",
   "metadata": {},
   "source": [
    "Далее будем сравнивать VW с SGDClassifier и с логистической регрессией. Всем моделям этим нужна предобработка входных данных. Подготовим для sklearn-моделей разреженные матрицы, как мы это делали раньше\n",
    "- объединим обучающиую и тестовую выборки\n",
    "- выберем только сайты (признаки от 'site1' до 'site10')\n",
    "- заменим пропуски на нули (сайты у нас нумеровались с 0)\n",
    "- переведем в разреженный формат `csr_matrix`\n",
    "- разобьем обратно на обучающую и тестовую части"
   ]
  },
  {
   "cell_type": "code",
   "execution_count": 166,
   "metadata": {},
   "outputs": [],
   "source": [
    "train_test_df = pd.concat([train_df_400, test_df_400])\n",
    "sites = ['site' + str(i) for i in range(1, 11)]\n",
    "train_test_df_sites = train_test_df[[site for site in sites]].fillna(0).astype('int')"
   ]
  },
  {
   "cell_type": "code",
   "execution_count": 167,
   "metadata": {},
   "outputs": [],
   "source": [
    "train_test_sparse = sparse(train_test_df_sites.values)\n",
    "test_size = len(test_df_400)/(len(train_df_400)+len(test_df_400))\n",
    "X_train_sparse, X_test_sparse = train_test_split(train_test_sparse, test_size=test_size, shuffle=False)"
   ]
  },
  {
   "cell_type": "code",
   "execution_count": 168,
   "metadata": {},
   "outputs": [],
   "source": [
    "train_df1, test_df1 = train_test_split(train_test_df_sites, test_size=test_size, shuffle=False)"
   ]
  },
  {
   "cell_type": "markdown",
   "metadata": {},
   "source": [
    "Выделим обучающую (70%) и отложенную (30%) части исходной обучающей выборки. Данные не перемешиваем, учитываем, что сессии отсортированы по времени."
   ]
  },
  {
   "cell_type": "code",
   "execution_count": 169,
   "metadata": {},
   "outputs": [],
   "source": [
    "train_share = int(.7 * train_df_400.shape[0])\n",
    "train_df_part = train_df1.iloc[:train_share, :]\n",
    "valid_df = train_df1.iloc[train_share:, :]\n",
    "X_train_part_sparse = X_train_sparse[:train_share, :]\n",
    "X_valid_sparse = X_train_sparse[train_share:, :]"
   ]
  },
  {
   "cell_type": "code",
   "execution_count": 170,
   "metadata": {},
   "outputs": [],
   "source": [
    "y_train_part = y[:train_share]\n",
    "y_valid = y[train_share:]\n",
    "y_train_part_for_vw = y_for_vw[:train_share]\n",
    "y_valid_for_vw = y_for_vw[train_share:]"
   ]
  },
  {
   "cell_type": "markdown",
   "metadata": {},
   "source": [
    "Реализуем функцию, `arrays_to_vw`, переводящую обучающую выборку в формат Vowpal Wabbit.**\n",
    "\n",
    "Вход:\n",
    " - X – матрица `NumPy` (обучающая выборка)\n",
    " - y (необяз.) - вектор ответов (`NumPy`). Необязателен, поскольку тестовую матрицу будем обрабатывать этой же функцией\n",
    " - train – флаг, True в случае обучающей выборки, False – в случае тестовой выборки\n",
    " - out_file – путь к файлу .vw, в который будет произведена запись\n",
    " \n",
    "Детали:\n",
    "- надо пройтись по всем строкам матрицы `X` и записать через пробел все значения, предварительно добавив вперед нужную метку класса из вектора `y` и знак-разделитель `|`\n",
    "- в тестовой выборке на месте меток целевого класса можно писать произвольные, допустим, 1"
   ]
  },
  {
   "cell_type": "code",
   "execution_count": 171,
   "metadata": {},
   "outputs": [],
   "source": [
    "def to_vw_format(X, label=None):    \n",
    "    X_list = X.tolist()\n",
    "    a = str(label or \"1\") + \" |\" + \" \" + \" \".join(map(str, map(int, X_list))) + '\\n'\n",
    "    return a"
   ]
  },
  {
   "cell_type": "code",
   "execution_count": 173,
   "metadata": {},
   "outputs": [],
   "source": [
    "def arrays_to_vw(X, y=None, train=True, out_file='tmp.vw'):\n",
    "    \n",
    "    if train:\n",
    "        with open(out_file, \"w\") as vw_data:\n",
    "            for i in range(X.shape[0]):\n",
    "                if type(y) == numpy.ndarray:\n",
    "                    vw_data.write(to_vw_format(X.iloc[i], y[i]))\n",
    "                    #print('X', X.iloc[i])\n",
    "                    #print(to_vw_format(X.iloc[i], y[i]))\n",
    "                else:\n",
    "                    vw_data.write(to_vw_format(X.iloc[i], y.iloc[i]))\n",
    "                    #print(to_vw_format(X.iloc[i], y.iloc[i]))\n",
    "    else:\n",
    "        with open(out_file, \"w\") as vw_data:\n",
    "            for i in range(X.shape[0]):\n",
    "                vw_data.write(to_vw_format(X.iloc[i]))\n",
    "                #print(to_vw_format(X.iloc[i]))\n",
    "    pass"
   ]
  },
  {
   "cell_type": "markdown",
   "metadata": {},
   "source": [
    "Применим написанную функцию к части обучащей выборки `(train_df_part, y_train_part_for_vw)`, к отложенной выборке `(valid_df, y_valid_for_vw)`, ко всей обучающей выборке и ко всей тестовой выборке. "
   ]
  },
  {
   "cell_type": "code",
   "execution_count": null,
   "metadata": {},
   "outputs": [],
   "source": [
    "arrays_to_vw(train_df_part, y_train_part_for_vw, out_file='train_part.vw')\n",
    "arrays_to_vw(valid_df, y_valid_for_vw, out_file='valid.vw')\n",
    "arrays_to_vw(train_df1, y_for_vw, out_file='train.vw')\n",
    "arrays_to_vw(test_df1, out_file='test.vw', train=False)"
   ]
  },
  {
   "cell_type": "markdown",
   "metadata": {},
   "source": [
    "Обучим модель Vowpal Wabbitна выборке `train_part.vw`. Укажим, что решается задача классификации с 400 классами (`--oaa`), сделаем 3 прохода по выборке (`--passes`).  Также укажим значение параметра `b`=26. Это число бит, используемых для хэширования, в данном случае нужно больше, чем 18 по умолчанию."
   ]
  },
  {
   "cell_type": "code",
   "execution_count": 176,
   "metadata": {},
   "outputs": [
    {
     "name": "stdout",
     "output_type": "stream",
     "text": [
      "Wall time: 24.7 s\n"
     ]
    },
    {
     "name": "stderr",
     "output_type": "stream",
     "text": [
      "final_regressor = model.vw\n",
      "Num weight bits = 26\n",
      "learning rate = 0.5\n",
      "initial_t = 0\n",
      "power_t = 0.5\n",
      "decay_learning_rate = 1\n",
      "creating cache_file = train_part.vw.cache\n",
      "Reading datafile = train_part.vw\n",
      "num sources = 1\n",
      "average  since         example        example  current  current  current\n",
      "loss     last          counter         weight    label  predict features\n",
      "1.000000 1.000000            1            1.0      262        1       11\n",
      "1.000000 1.000000            2            2.0       82      262       11\n",
      "1.000000 1.000000            4            4.0      241      262       11\n",
      "1.000000 1.000000            8            8.0      352      262       11\n",
      "1.000000 1.000000           16           16.0      135       16       11\n",
      "1.000000 1.000000           32           32.0       71      112       11\n",
      "0.968750 0.937500           64           64.0      358      231       11\n",
      "0.976562 0.984375          128          128.0      348      346       11\n",
      "0.941406 0.906250          256          256.0      202      202       11\n",
      "0.947266 0.953125          512          512.0       30        1       11\n",
      "0.925781 0.904297         1024         1024.0       36      290       11\n",
      "0.908203 0.890625         2048         2048.0       21      128       11\n",
      "0.880127 0.852051         4096         4096.0       80      229       11\n",
      "0.856323 0.832520         8192         8192.0      307      356       11\n",
      "0.828003 0.799683        16384        16384.0       59      193       11\n",
      "0.795441 0.762878        32768        32768.0      262       30       11\n",
      "0.760468 0.725494        65536        65536.0      171      238       11\n",
      "0.724008 0.724008       131072       131072.0        6        6       11 h\n",
      "0.697339 0.670672       262144       262144.0       12       12       11 h\n",
      "\n",
      "finished run\n",
      "number of examples per pass = 115160\n",
      "passes used = 3\n",
      "weighted example sum = 345480.000000\n",
      "weighted label sum = 0.000000\n",
      "average loss = 0.661352 h\n",
      "total feature number = 3800280\n"
     ]
    }
   ],
   "source": [
    "%%time\n",
    "!vw -k -d train_part.vw --oaa 400 --passes 3 -c -b 26 --random_seed 17 -f model.vw"
   ]
  },
  {
   "cell_type": "markdown",
   "metadata": {},
   "source": [
    "Запишим прогнозы на выборке *valid.vw* в *vw_valid_pred.csv*."
   ]
  },
  {
   "cell_type": "code",
   "execution_count": 177,
   "metadata": {},
   "outputs": [
    {
     "name": "stderr",
     "output_type": "stream",
     "text": [
      "only testing\n",
      "predictions = pred.csv\n",
      "Num weight bits = 26\n",
      "learning rate = 0.5\n",
      "initial_t = 0\n",
      "power_t = 0.5\n",
      "using no cache\n",
      "Reading datafile = valid.vw\n",
      "num sources = 1\n",
      "average  since         example        example  current  current  current\n",
      "loss     last          counter         weight    label  predict features\n",
      "1.000000 1.000000            1            1.0        4      188       11\n",
      "1.000000 1.000000            2            2.0      160      220       11\n",
      "0.750000 0.500000            4            4.0      143      143       11\n",
      "0.750000 0.750000            8            8.0      247      247       11\n",
      "0.687500 0.625000           16           16.0      341       30       11\n",
      "0.593750 0.500000           32           32.0      237      237       11\n",
      "0.609375 0.625000           64           64.0      178      178       11\n",
      "0.640625 0.671875          128          128.0      132      228       11\n",
      "0.656250 0.671875          256          256.0       14       14       11\n",
      "0.646484 0.636719          512          512.0      370      370       11\n",
      "0.663086 0.679688         1024         1024.0      189      189       11\n",
      "0.655762 0.648438         2048         2048.0      311      311       11\n",
      "0.657227 0.658691         4096         4096.0      195      318       11\n",
      "0.660156 0.663086         8192         8192.0      171      195       11\n",
      "0.657654 0.655151        16384        16384.0      362       51       11\n",
      "0.655121 0.652588        32768        32768.0      248      248       11\n",
      "\n",
      "finished run\n",
      "number of examples per pass = 54838\n",
      "passes used = 1\n",
      "weighted example sum = 54838.000000\n",
      "weighted label sum = 0.000000\n",
      "average loss = 0.654583\n",
      "total feature number = 603218\n"
     ]
    }
   ],
   "source": [
    "!vw -d valid.vw -i model.vw -t -p pred.csv"
   ]
  },
  {
   "cell_type": "markdown",
   "metadata": {},
   "source": [
    "Считаем прогнозы *kaggle_data/vw_valid_pred.csv*  из файла и посмотрим на долю правильных ответов на отложенной части."
   ]
  },
  {
   "cell_type": "code",
   "execution_count": 178,
   "metadata": {},
   "outputs": [
    {
     "data": {
      "text/plain": [
       "0.34541741128414605"
      ]
     },
     "execution_count": 178,
     "metadata": {},
     "output_type": "execute_result"
    }
   ],
   "source": [
    "pred1 = pd.read_csv('pred.csv', header=None)\n",
    "vw_sc = accuracy_score(y_valid_for_vw, pred1[0].tolist())\n",
    "vw_sc"
   ]
  },
  {
   "cell_type": "markdown",
   "metadata": {},
   "source": [
    "Теперь обучим `SGDClassifier` (3 прохода по выборке, логистическая функция потерь) и `LogisticRegression` на 70% разреженной обучающей выборки – `(X_train_part_sparse, y_train_part)`, сделайте прогноз для отложенной выборки `(X_valid_sparse, y_valid)` и посчитаем доли верных ответов. "
   ]
  },
  {
   "cell_type": "code",
   "execution_count": 181,
   "metadata": {},
   "outputs": [],
   "source": [
    "from sklearn.linear_model import LogisticRegression, SGDClassifier"
   ]
  },
  {
   "cell_type": "code",
   "execution_count": 183,
   "metadata": {},
   "outputs": [
    {
     "data": {
      "text/plain": [
       "0.36292352018673185"
      ]
     },
     "execution_count": 183,
     "metadata": {},
     "output_type": "execute_result"
    }
   ],
   "source": [
    "logit = LogisticRegression(random_state=17, n_jobs=-1, solver='liblinear')\n",
    "logit.fit(X_train_part_sparse, y_train_part)\n",
    "logit_valid_acc = accuracy_score(y_valid, logit.predict(X_valid_sparse))\n",
    "logit_valid_acc"
   ]
  },
  {
   "cell_type": "code",
   "execution_count": 182,
   "metadata": {},
   "outputs": [
    {
     "data": {
      "text/plain": [
       "0.2936467413107699"
      ]
     },
     "execution_count": 182,
     "metadata": {},
     "output_type": "execute_result"
    }
   ],
   "source": [
    "sgd_logit = SGDClassifier(loss='log', max_iter=3, n_jobs=-1, random_state=17)\n",
    "sgd_logit.fit(X_train_part_sparse, y_train_part)\n",
    "sgd_valid_acc = accuracy_score(y_valid, sgd_logit.predict(X_valid_sparse))\n",
    "sgd_valid_acc"
   ]
  },
  {
   "cell_type": "markdown",
   "metadata": {},
   "source": [
    "По данным результатам можно сделать следующие выводы:\n",
    "\n",
    "Наилучшую долю правильных ответов дала модель LogisticRegression, но при этом время на обучение и прогноз для Vowpal Wabbit и SGDClassifier потребовалось сильно меньше по сравнению с LogisticRegression, а качество классификации не намного хуже."
   ]
  },
  {
   "cell_type": "markdown",
   "metadata": {},
   "source": [
    "## Выводы по проекту\n",
    "\n",
    "Построенная модель может применятся на практике для идентификации пользователей в сети, или задачи, где необходимо идентифицировать несколько разных пользователей. Например, может применятся в бизнес-сфере таргетирования рекламы, так как по тому, какие сайты посещает пользователь, можно неплохо предсказывать, что может потребоваться данному пользователю. Также данная модель применима для вычисления злоумышленников в сети и их попыток взлома."
   ]
  },
  {
   "cell_type": "code",
   "execution_count": null,
   "metadata": {},
   "outputs": [],
   "source": []
  }
 ],
 "metadata": {
  "kernelspec": {
   "display_name": "Python 3",
   "language": "python",
   "name": "python3"
  },
  "language_info": {
   "codemirror_mode": {
    "name": "ipython",
    "version": 3
   },
   "file_extension": ".py",
   "mimetype": "text/x-python",
   "name": "python",
   "nbconvert_exporter": "python",
   "pygments_lexer": "ipython3",
   "version": "3.8.3"
  }
 },
 "nbformat": 4,
 "nbformat_minor": 4
}
